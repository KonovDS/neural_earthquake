{
 "cells": [
  {
   "cell_type": "code",
   "execution_count": 1,
   "id": "47374a93",
   "metadata": {},
   "outputs": [
    {
     "name": "stdout",
     "output_type": "stream",
     "text": [
      "cuda\n"
     ]
    }
   ],
   "source": [
    "import torch\n",
    "import torch.nn as nn\n",
    "import torch.optim as optim\n",
    "import torch.utils.data\n",
    "import torch.nn.functional as F\n",
    "\n",
    "from torchvision import datasets, models, transforms\n",
    "from torch.utils.data import DataLoader, Dataset\n",
    "\n",
    "import numpy as np\n",
    "import pandas as pd\n",
    "import matplotlib.pyplot as plt\n",
    "import os\n",
    "\n",
    "device = 'cuda' if torch.cuda.is_available() else 'cpu'\n",
    "print(device)"
   ]
  },
  {
   "cell_type": "code",
   "execution_count": 2,
   "id": "10a5739b",
   "metadata": {},
   "outputs": [],
   "source": [
    "import re\n",
    "\n",
    "regex = re.compile(r'^[\\d]+_x=([-\\d.]+)_z=([-\\d.]+)_a=([-\\d.]+)_h=([-\\d.]+)[.]csv$')\n",
    "\n",
    "def label_from_path(path):\n",
    "    label = path.split('\\\\')[-1] # PLATFORM DEPENDENT!\n",
    "    m = regex.match(label)\n",
    "    out = [float(x) for x in m.groups()]\n",
    "    return torch.tensor(out, dtype=torch.float)"
   ]
  },
  {
   "cell_type": "code",
   "execution_count": 3,
   "id": "c74fbaef",
   "metadata": {},
   "outputs": [],
   "source": [
    "def data_from_path(path):\n",
    "    data = pd.read_csv(path, sep=';')\n",
    "\n",
    "    time = data.values[:,0]\n",
    "    vx   = data.values[:,1::2]\n",
    "    vz   = data.values[:,2::2]\n",
    "    vabs = (vx ** 2 + vz ** 2) ** (1/2)\n",
    "    \n",
    "    vx   = torch.from_numpy(vx)\n",
    "    vz   = torch.from_numpy(vz)\n",
    "    vabs = torch.from_numpy(vabs)\n",
    "    \n",
    "    vx_fft   = torch.view_as_real(torch.fft.fft(vx)).permute(2, 0, 1)\n",
    "    vz_fft   = torch.view_as_real(torch.fft.fft(vz)).permute(2, 0, 1)\n",
    "    vabs_fft = torch.view_as_real(torch.fft.fft(vabs)).permute(2, 0, 1)\n",
    "\n",
    "    ret = torch.cat([vx.unsqueeze(0), vz.unsqueeze(0), vabs.unsqueeze(0), vx_fft, vz_fft, vabs_fft], dim=0)\n",
    "\n",
    "    return ret"
   ]
  },
  {
   "cell_type": "code",
   "execution_count": 4,
   "id": "f8376896",
   "metadata": {},
   "outputs": [],
   "source": [
    "class CSVDataset(Dataset):\n",
    "    def __init__(self, path, device):\n",
    "        self.device = device\n",
    "        self.csv_list = [\n",
    "            (path + \"\\\\\" + i) for i in os.listdir(path) if i.split('.')[-1] == 'csv'\n",
    "        ]\n",
    "\n",
    "    def __getitem__(self, item):\n",
    "        d = data_from_path(self.csv_list[item]).to(device=device, dtype=torch.float)\n",
    "        l = label_from_path(self.csv_list[item]).to(device=device, dtype=torch.float)\n",
    "        return d, l\n",
    "\n",
    "    def __len__(self):\n",
    "        return len(self.csv_list)"
   ]
  },
  {
   "cell_type": "code",
   "execution_count": 5,
   "id": "3a655370",
   "metadata": {},
   "outputs": [],
   "source": [
    "class Predictor(nn.Module):\n",
    "    def __init__(self, n_hyper):\n",
    "        super(Predictor, self).__init__()\n",
    "\n",
    "        self.feature_extractor = nn.Sequential(\n",
    "            #        in  out  ker size\n",
    "            nn.Conv2d(9, n_hyper, 3),     # 9 = len([v_x, v_y, v_abs, 2*fft_vx, 2*fft_vy, 2*fft_vabs, ])\n",
    "            nn.MaxPool2d(2, 2), \n",
    "            nn.ReLU(inplace=True),\n",
    "            nn.BatchNorm2d(n_hyper),\n",
    "\n",
    "            nn.Conv2d(n_hyper, 512, 3, 2),\n",
    "            nn.MaxPool2d(2, 2),\n",
    "            nn.ReLU(inplace=True),\n",
    "            nn.BatchNorm2d(512),\n",
    "\n",
    "            nn.Conv2d(512, 1024, 3, 2),\n",
    "            nn.MaxPool2d(2, 2),\n",
    "            nn.ReLU(inplace=True),\n",
    "            nn.BatchNorm2d(1024),\n",
    "\n",
    "            nn.Conv2d(1024, 512, 2),\n",
    "        )\n",
    "\n",
    "        self.linear = nn.Linear(45, 256)\n",
    "        self.conv = nn.Sequential(\n",
    "            nn.Conv2d(512, 1, 1),\n",
    "            nn.ReLU(inplace=True)\n",
    "            )\n",
    "\n",
    "        self.linear2 = nn.Linear(256, 4) # 4 = x, z, a, h\n",
    "\n",
    "    def forward(self, input):\n",
    "        x = self.feature_extractor(input)\n",
    "        x = x.permute(0, 1, 3, 2)\n",
    "        x = self.linear(x)\n",
    "        x = self.conv(x)\n",
    "        x = x.squeeze(1).squeeze(1)\n",
    "        x = self.linear2(x)\n",
    "\n",
    "        return x"
   ]
  },
  {
   "cell_type": "code",
   "execution_count": 6,
   "id": "cc31801a",
   "metadata": {},
   "outputs": [],
   "source": [
    "loss_fn = nn.MSELoss()\n",
    "predictor = Predictor(64).to(device)\n",
    "predictor.load_state_dict(torch.load(\".\\\\w3\\\\lastest_22_478.74707580566405\"))"
   ]
  },
  {
   "cell_type": "code",
   "execution_count": 13,
   "id": "aa767082",
   "metadata": {},
   "outputs": [
    {
     "name": "stdout",
     "output_type": "stream",
     "text": [
      "tensor([-1714.9722,  1142.7612,    91.8182,   298.5901], device='cuda:0')\n",
      "tensor([[-1752.2119,  1131.2064,    88.8645,   287.1279]], device='cuda:0',\n",
      "       grad_fn=<AddmmBackward0>)\n"
     ]
    }
   ],
   "source": [
    "path = \".\\\\csv_test\\\\4_x=-1714.972192_z=1142.761271_a=91.818242_h=298.590158.csv\"\n",
    "data = data_from_path(path).to(device=device, dtype=torch.float)\n",
    "label = label_from_path(path).to(device=device, dtype=torch.float)\n",
    "print(label)\n",
    "\n",
    "outputs = predictor(data.unsqueeze(0))\n",
    "print(outputs)"
   ]
  },
  {
   "cell_type": "code",
   "execution_count": 15,
   "id": "b2cfff0f",
   "metadata": {},
   "outputs": [
    {
     "name": "stdout",
     "output_type": "stream",
     "text": [
      "tensor([214.7058, 937.9504,  84.3790, 166.2199], device='cuda:0')\n",
      "tensor([[143.5333, 936.1996,  73.9638, 177.2107]], device='cuda:0',\n",
      "       grad_fn=<AddmmBackward0>)\n"
     ]
    }
   ],
   "source": [
    "path = \".\\\\csv_test\\\\3_x=214.705816_z=937.950430_a=84.379035_h=166.219929.csv\"\n",
    "data = data_from_path(path).to(device=device, dtype=torch.float)\n",
    "label = label_from_path(path).to(device=device, dtype=torch.float)\n",
    "print(label)\n",
    "\n",
    "outputs = predictor(data.unsqueeze(0))\n",
    "print(outputs)"
   ]
  },
  {
   "cell_type": "code",
   "execution_count": 16,
   "id": "8a799454",
   "metadata": {},
   "outputs": [
    {
     "name": "stdout",
     "output_type": "stream",
     "text": [
      "tensor([868.4225, 960.4449,  76.2514, 258.9329], device='cuda:0')\n",
      "tensor([[865.9625, 978.5985,  79.4575, 230.9267]], device='cuda:0',\n",
      "       grad_fn=<AddmmBackward0>)\n"
     ]
    }
   ],
   "source": [
    "path = \".\\\\csv_test\\\\2_x=868.422572_z=960.444919_a=76.251414_h=258.932863.csv\"\n",
    "data = data_from_path(path).to(device=device, dtype=torch.float)\n",
    "label = label_from_path(path).to(device=device, dtype=torch.float)\n",
    "print(label)\n",
    "\n",
    "outputs = predictor(data.unsqueeze(0))\n",
    "print(outputs)"
   ]
  },
  {
   "cell_type": "code",
   "execution_count": 17,
   "id": "9dc84f5c",
   "metadata": {},
   "outputs": [
    {
     "name": "stdout",
     "output_type": "stream",
     "text": [
      "tensor([ 961.4293, 1371.0690,   89.7147,  242.0393], device='cuda:0')\n",
      "tensor([[ 986.1116, 1384.7716,   84.6249,  228.8689]], device='cuda:0',\n",
      "       grad_fn=<AddmmBackward0>)\n"
     ]
    }
   ],
   "source": [
    "path = \".\\\\csv_test\\\\1_x=961.429279_z=1371.068986_a=89.714692_h=242.039323.csv\"\n",
    "data = data_from_path(path).to(device=device, dtype=torch.float)\n",
    "label = label_from_path(path).to(device=device, dtype=torch.float)\n",
    "print(label)\n",
    "\n",
    "outputs = predictor(data.unsqueeze(0))\n",
    "print(outputs)"
   ]
  },
  {
   "cell_type": "code",
   "execution_count": null,
   "id": "d21b1e20",
   "metadata": {},
   "outputs": [],
   "source": []
  }
 ],
 "metadata": {
  "kernelspec": {
   "display_name": "Python 3 (ipykernel)",
   "language": "python",
   "name": "python3"
  },
  "language_info": {
   "codemirror_mode": {
    "name": "ipython",
    "version": 3
   },
   "file_extension": ".py",
   "mimetype": "text/x-python",
   "name": "python",
   "nbconvert_exporter": "python",
   "pygments_lexer": "ipython3",
   "version": "3.9.6"
  }
 },
 "nbformat": 4,
 "nbformat_minor": 5
}
