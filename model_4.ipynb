{
 "cells": [
  {
   "cell_type": "code",
   "execution_count": 1,
   "id": "08805fa5",
   "metadata": {},
   "outputs": [
    {
     "name": "stdout",
     "output_type": "stream",
     "text": [
      "cuda\n"
     ]
    }
   ],
   "source": [
    "import torch\n",
    "import torch.nn as nn\n",
    "import torch.optim as optim\n",
    "import torch.utils.data\n",
    "import torch.nn.functional as F\n",
    "\n",
    "from torchvision import datasets, models, transforms\n",
    "from torch.utils.data import DataLoader, Dataset\n",
    "\n",
    "import numpy as np\n",
    "import pandas as pd\n",
    "import matplotlib.pyplot as plt\n",
    "import os\n",
    "\n",
    "device = 'cuda' if torch.cuda.is_available() else 'cpu'\n",
    "print(device)"
   ]
  },
  {
   "cell_type": "code",
   "execution_count": 2,
   "id": "2a6993f4",
   "metadata": {},
   "outputs": [],
   "source": [
    "import re\n",
    "\n",
    "regex = re.compile(r'^[\\d]+_x=([-\\d.]+)_z=([-\\d.]+)_a=([-\\d.]+)_h=([-\\d.]+)[.]csv$')\n",
    "\n",
    "def label_from_path(path):\n",
    "    label = path.split('\\\\')[-1] # PLATFORM DEPENDENT!\n",
    "    m = regex.match(label)\n",
    "    out = [float(x) for x in m.groups()]\n",
    "    return torch.tensor(out, dtype=torch.float)"
   ]
  },
  {
   "cell_type": "code",
   "execution_count": 3,
   "id": "4c478dcc",
   "metadata": {},
   "outputs": [],
   "source": [
    "def data_from_path(path):\n",
    "    data = pd.read_csv(path, sep=';')\n",
    "\n",
    "    time = data.values[:,0]\n",
    "    vx   = data.values[:,1::2]\n",
    "    vz   = data.values[:,2::2]\n",
    "    vabs = (vx ** 2 + vz ** 2) ** (1/2)\n",
    "    \n",
    "    vx   = torch.from_numpy(vx)\n",
    "    vz   = torch.from_numpy(vz)\n",
    "    vabs = torch.from_numpy(vabs)\n",
    "    \n",
    "    vx_fft   = torch.view_as_real(torch.fft.fft(vx)).permute(2, 0, 1)\n",
    "    vz_fft   = torch.view_as_real(torch.fft.fft(vz)).permute(2, 0, 1)\n",
    "    vabs_fft = torch.view_as_real(torch.fft.fft(vabs)).permute(2, 0, 1)\n",
    "\n",
    "    ret = torch.cat([vx.unsqueeze(0), vz.unsqueeze(0), vabs.unsqueeze(0), vx_fft, vz_fft, vabs_fft], dim=0)\n",
    "\n",
    "    return ret"
   ]
  },
  {
   "cell_type": "code",
   "execution_count": 4,
   "id": "186f02c7",
   "metadata": {},
   "outputs": [],
   "source": [
    "class CSVDataset(Dataset):\n",
    "    def __init__(self, path, device):\n",
    "        self.device = device\n",
    "        self.csv_list = [\n",
    "            (path + \"\\\\\" + i) for i in os.listdir(path) if i.split('.')[-1] == 'csv'\n",
    "        ]\n",
    "\n",
    "    def __getitem__(self, item):\n",
    "        d = data_from_path(self.csv_list[item]).to(device=device, dtype=torch.float)\n",
    "        l = label_from_path(self.csv_list[item]).to(device=device, dtype=torch.float)\n",
    "        return d, l\n",
    "\n",
    "    def __len__(self):\n",
    "        return len(self.csv_list)"
   ]
  },
  {
   "cell_type": "code",
   "execution_count": 5,
   "id": "0fe88ede",
   "metadata": {},
   "outputs": [],
   "source": [
    "class Predictor(nn.Module):\n",
    "    def __init__(self):\n",
    "        super(Predictor, self).__init__()\n",
    "\n",
    "        self.feature_extractor = nn.Sequential(\n",
    "            #        in  out  ker size\n",
    "            nn.Conv2d(9, 32, 3),     # 9 = len([v_x, v_y, v_abs, 2*fft_vx, 2*fft_vy, 2*fft_vabs, ])\n",
    "            nn.MaxPool2d(2, 2), \n",
    "            nn.ReLU(inplace=True),\n",
    "            nn.BatchNorm2d(32),\n",
    "\n",
    "            nn.Conv2d(32, 512, 3, 2),\n",
    "            nn.MaxPool2d(2, 2),\n",
    "            nn.ReLU(inplace=True),\n",
    "            nn.BatchNorm2d(512),\n",
    "\n",
    "            nn.Conv2d(512, 1024, 3, 2),\n",
    "            nn.MaxPool2d(2, 2),\n",
    "            nn.ReLU(inplace=True),\n",
    "            nn.BatchNorm2d(1024),\n",
    "\n",
    "            nn.Conv2d(1024, 512, 2),\n",
    "        )\n",
    "\n",
    "        self.linear = nn.Linear(45, 256)\n",
    "        self.conv = nn.Sequential(\n",
    "            nn.Conv2d(512, 1, 1),\n",
    "            nn.ReLU(inplace=True)\n",
    "            )\n",
    "\n",
    "        self.linear2 = nn.Linear(256, 4) # 4 = x, z, a, h\n",
    "\n",
    "    def forward(self, input):\n",
    "        x = self.feature_extractor(input)\n",
    "        x = x.permute(0, 1, 3, 2)\n",
    "        x = self.linear(x)\n",
    "        x = self.conv(x)\n",
    "        x = x.squeeze(1).squeeze(1)\n",
    "        x = self.linear2(x)\n",
    "\n",
    "        return x"
   ]
  },
  {
   "cell_type": "code",
   "execution_count": 6,
   "id": "3cd51348",
   "metadata": {},
   "outputs": [],
   "source": [
    "predictor = Predictor().to(device)\n",
    "data_loader = DataLoader(CSVDataset(\".\\\\csv\", device), batch_size=8, shuffle=True)\n",
    "loss_fn = nn.MSELoss()\n",
    "optimizer = optim.Adam(predictor.parameters(), lr=0.0003)"
   ]
  },
  {
   "cell_type": "code",
   "execution_count": 7,
   "id": "09d4a6ff",
   "metadata": {},
   "outputs": [
    {
     "name": "stderr",
     "output_type": "stream",
     "text": [
      "loss: 5016.0556640625: 100%|█████████████████████████████████████████████████████████| 750/750 [10:15<00:00,  1.22it/s]\n",
      "loss: 2971.83642578125: 100%|████████████████████████████████████████████████████████| 750/750 [09:15<00:00,  1.35it/s]\n",
      "loss: 2731.140869140625: 100%|███████████████████████████████████████████████████████| 750/750 [09:08<00:00,  1.37it/s]\n",
      "loss: 2614.953125: 100%|█████████████████████████████████████████████████████████████| 750/750 [09:14<00:00,  1.35it/s]\n",
      "loss: 2339.32080078125: 100%|████████████████████████████████████████████████████████| 750/750 [09:11<00:00,  1.36it/s]\n",
      "loss: 1703.4610595703125: 100%|██████████████████████████████████████████████████████| 750/750 [09:21<00:00,  1.34it/s]\n",
      "loss: 1569.994140625: 100%|██████████████████████████████████████████████████████████| 750/750 [09:40<00:00,  1.29it/s]\n",
      "loss: 4076.4775390625: 100%|█████████████████████████████████████████████████████████| 750/750 [09:32<00:00,  1.31it/s]\n",
      "loss: 2345.2138671875: 100%|█████████████████████████████████████████████████████████| 750/750 [09:14<00:00,  1.35it/s]\n",
      "loss: 771.1654663085938: 100%|███████████████████████████████████████████████████████| 750/750 [09:00<00:00,  1.39it/s]\n",
      "loss: 1134.8116455078125: 100%|██████████████████████████████████████████████████████| 750/750 [08:56<00:00,  1.40it/s]\n",
      "loss: 737.3451538085938: 100%|███████████████████████████████████████████████████████| 750/750 [08:54<00:00,  1.40it/s]\n",
      "loss: 826.2482299804688: 100%|███████████████████████████████████████████████████████| 750/750 [08:52<00:00,  1.41it/s]\n",
      "loss: 766.0128173828125: 100%|███████████████████████████████████████████████████████| 750/750 [09:00<00:00,  1.39it/s]\n",
      "loss: 338.05072021484375: 100%|██████████████████████████████████████████████████████| 750/750 [09:09<00:00,  1.37it/s]\n",
      "loss: 470.46002197265625: 100%|██████████████████████████████████████████████████████| 750/750 [09:25<00:00,  1.33it/s]\n",
      "loss: 471.120849609375: 100%|████████████████████████████████████████████████████████| 750/750 [12:16<00:00,  1.02it/s]\n",
      "loss: 477.24560546875: 100%|█████████████████████████████████████████████████████████| 750/750 [15:27<00:00,  1.24s/it]\n",
      "loss: 310.10992431640625: 100%|██████████████████████████████████████████████████████| 750/750 [14:48<00:00,  1.18s/it]\n",
      "loss: 223.90139770507812: 100%|██████████████████████████████████████████████████████| 750/750 [14:58<00:00,  1.20s/it]\n",
      "loss: 876.502197265625: 100%|████████████████████████████████████████████████████████| 750/750 [16:06<00:00,  1.29s/it]\n",
      "loss: 534.7236328125: 100%|██████████████████████████████████████████████████████████| 750/750 [16:16<00:00,  1.30s/it]\n",
      "loss: 253.30624389648438: 100%|██████████████████████████████████████████████████████| 750/750 [14:56<00:00,  1.20s/it]\n",
      "loss: 1037.735595703125: 100%|███████████████████████████████████████████████████████| 750/750 [09:37<00:00,  1.30it/s]\n",
      "loss: 673.7460327148438: 100%|███████████████████████████████████████████████████████| 750/750 [08:56<00:00,  1.40it/s]"
     ]
    },
    {
     "name": "stdout",
     "output_type": "stream",
     "text": [
      "Finished Training\n"
     ]
    },
    {
     "name": "stderr",
     "output_type": "stream",
     "text": [
      "\n"
     ]
    }
   ],
   "source": [
    "from tqdm import tqdm\n",
    "\n",
    "num_epochs = 25\n",
    "all_loss = []\n",
    "\n",
    "for epoch in range(num_epochs):\n",
    "    progress = tqdm(data_loader)\n",
    "    running_loss = []\n",
    "    for inputs, label in progress:\n",
    "        # zero the parameter gradients\n",
    "        optimizer.zero_grad()\n",
    "        # predict\n",
    "        outputs = predictor(inputs)\n",
    "        # loss\n",
    "        loss = loss_fn(outputs, label)\n",
    "        running_loss.append(loss.item())\n",
    "        loss.backward()\n",
    "        optimizer.step()\n",
    "\n",
    "        # print statistics\n",
    "        progress.set_description(f\"loss: {loss.item()}\")\n",
    "    \n",
    "    all_loss.append(running_loss)\n",
    "    torch.save(predictor.state_dict(), f'.\\\\weights\\\\lastest_{epoch}_{np.mean(running_loss)}')\n",
    "\n",
    "print('Finished Training')"
   ]
  },
  {
   "cell_type": "code",
   "execution_count": 9,
   "id": "e7078f13",
   "metadata": {},
   "outputs": [
    {
     "name": "stdout",
     "output_type": "stream",
     "text": [
      "['.\\\\w4\\\\lastest_0_46180.8893523763', '.\\\\w4\\\\lastest_10_969.7212858479818', '.\\\\w4\\\\lastest_11_896.4830109863282', '.\\\\w4\\\\lastest_12_907.1207577718098', '.\\\\w4\\\\lastest_13_753.7879975585937', '.\\\\w4\\\\lastest_14_733.2922454833985', '.\\\\w4\\\\lastest_15_725.1300467325847', '.\\\\w4\\\\lastest_16_622.0657198079427', '.\\\\w4\\\\lastest_17_649.0316087646485', '.\\\\w4\\\\lastest_18_608.774219136556', '.\\\\w4\\\\lastest_19_561.3580904947917', '.\\\\w4\\\\lastest_1_4253.4193082682295', '.\\\\w4\\\\lastest_20_538.3093043416341', '.\\\\w4\\\\lastest_21_544.007084991455', '.\\\\w4\\\\lastest_22_504.05983953857424', '.\\\\w4\\\\lastest_23_560.1508313090006', '.\\\\w4\\\\lastest_24_419.16999172973635', '.\\\\w4\\\\lastest_2_2794.8280506184897', '.\\\\w4\\\\lastest_3_2159.5597272949217', '.\\\\w4\\\\lastest_4_1845.9795686035156', '.\\\\w4\\\\lastest_5_1666.5838186035157', '.\\\\w4\\\\lastest_6_1590.0135607503255', '.\\\\w4\\\\lastest_7_1248.1552843017578', '.\\\\w4\\\\lastest_8_1296.2617186279297', '.\\\\w4\\\\lastest_9_1049.217219543457']\n"
     ]
    }
   ],
   "source": [
    "from tqdm import tqdm\n",
    "\n",
    "predictor = Predictor().to(device)\n",
    "loss_fn = nn.MSELoss()\n",
    "\n",
    "weight_path = \".\\\\w4\"\n",
    "epoch_list = [ (weight_path + \"\\\\\" + i) for i in os.listdir(weight_path)]\n",
    "\n",
    "out_list = []\n",
    "\n",
    "print(epoch_list)"
   ]
  },
  {
   "cell_type": "code",
   "execution_count": 10,
   "id": "a60f6a9a",
   "metadata": {},
   "outputs": [
    {
     "name": "stderr",
     "output_type": "stream",
     "text": [
      "100%|██████████████████████████████████████████████████████████████████████████████████| 75/75 [00:55<00:00,  1.34it/s]\n",
      "100%|██████████████████████████████████████████████████████████████████████████████████| 75/75 [00:46<00:00,  1.62it/s]\n",
      "100%|██████████████████████████████████████████████████████████████████████████████████| 75/75 [00:45<00:00,  1.66it/s]\n",
      "100%|██████████████████████████████████████████████████████████████████████████████████| 75/75 [00:42<00:00,  1.78it/s]\n",
      "100%|██████████████████████████████████████████████████████████████████████████████████| 75/75 [00:43<00:00,  1.73it/s]\n",
      "100%|██████████████████████████████████████████████████████████████████████████████████| 75/75 [00:44<00:00,  1.69it/s]\n",
      "100%|██████████████████████████████████████████████████████████████████████████████████| 75/75 [00:45<00:00,  1.63it/s]\n",
      "100%|██████████████████████████████████████████████████████████████████████████████████| 75/75 [00:46<00:00,  1.63it/s]\n",
      "100%|██████████████████████████████████████████████████████████████████████████████████| 75/75 [00:47<00:00,  1.57it/s]\n",
      "100%|██████████████████████████████████████████████████████████████████████████████████| 75/75 [00:49<00:00,  1.52it/s]\n",
      "100%|██████████████████████████████████████████████████████████████████████████████████| 75/75 [00:46<00:00,  1.60it/s]\n",
      "100%|██████████████████████████████████████████████████████████████████████████████████| 75/75 [00:46<00:00,  1.62it/s]\n",
      "100%|██████████████████████████████████████████████████████████████████████████████████| 75/75 [00:50<00:00,  1.49it/s]\n",
      "100%|██████████████████████████████████████████████████████████████████████████████████| 75/75 [00:48<00:00,  1.55it/s]\n",
      "100%|██████████████████████████████████████████████████████████████████████████████████| 75/75 [00:46<00:00,  1.61it/s]\n",
      "100%|██████████████████████████████████████████████████████████████████████████████████| 75/75 [00:45<00:00,  1.64it/s]\n",
      "100%|██████████████████████████████████████████████████████████████████████████████████| 75/75 [00:45<00:00,  1.64it/s]\n",
      "100%|██████████████████████████████████████████████████████████████████████████████████| 75/75 [00:44<00:00,  1.67it/s]\n",
      "100%|██████████████████████████████████████████████████████████████████████████████████| 75/75 [00:45<00:00,  1.66it/s]\n",
      "100%|██████████████████████████████████████████████████████████████████████████████████| 75/75 [00:46<00:00,  1.61it/s]\n",
      "100%|██████████████████████████████████████████████████████████████████████████████████| 75/75 [00:46<00:00,  1.60it/s]\n",
      "100%|██████████████████████████████████████████████████████████████████████████████████| 75/75 [00:44<00:00,  1.70it/s]\n",
      "100%|██████████████████████████████████████████████████████████████████████████████████| 75/75 [00:42<00:00,  1.75it/s]\n",
      "100%|██████████████████████████████████████████████████████████████████████████████████| 75/75 [00:45<00:00,  1.65it/s]\n",
      "100%|██████████████████████████████████████████████████████████████████████████████████| 75/75 [00:46<00:00,  1.62it/s]\n"
     ]
    }
   ],
   "source": [
    "for fname in epoch_list:\n",
    "    predictor.load_state_dict(torch.load(fname))\n",
    "    test_data_loader = DataLoader(CSVDataset(\".\\\\csv_test\", device), batch_size=8, shuffle=True)\n",
    "    total_loss = 0\n",
    "    for data, label in tqdm(test_data_loader):\n",
    "        with torch.no_grad():\n",
    "            outputs = predictor(data)\n",
    "            total_loss += loss_fn(outputs, label)\n",
    "    \n",
    "    out_list.append( (fname, total_loss / len(test_data_loader)) )"
   ]
  },
  {
   "cell_type": "code",
   "execution_count": 11,
   "id": "943fc643",
   "metadata": {},
   "outputs": [
    {
     "name": "stdout",
     "output_type": "stream",
     "text": [
      "Train loss        Test loss\n",
      "46180.8893523763 5429.99072265625\n",
      "969.7212858479818 1187.9425048828125\n",
      "896.4830109863282 1065.7484130859375\n",
      "907.1207577718098 983.3062744140625\n",
      "753.7879975585937 856.3779907226562\n",
      "733.2922454833985 759.1427001953125\n",
      "725.1300467325847 851.9904174804688\n",
      "622.0657198079427 868.0095825195312\n",
      "649.0316087646485 781.4510498046875\n",
      "608.774219136556 658.8756713867188\n",
      "561.3580904947917 881.4955444335938\n",
      "4253.4193082682295 4933.7705078125\n",
      "538.3093043416341 760.9243774414062\n",
      "544.007084991455 711.6118774414062\n",
      "504.05983953857424 563.680908203125\n",
      "560.1508313090006 648.5636596679688\n",
      "419.16999172973635 623.5989990234375\n",
      "2794.8280506184897 2491.6787109375\n",
      "2159.5597272949217 1930.45068359375\n",
      "1845.9795686035156 1720.1646728515625\n",
      "1666.5838186035157 1796.9058837890625\n",
      "1590.0135607503255 1338.5537109375\n",
      "1248.1552843017578 1862.1248779296875\n",
      "1296.2617186279297 2187.4775390625\n",
      "1049.217219543457 1324.35546875\n"
     ]
    },
    {
     "data": {
      "image/png": "[encoded data removed]",
      "text/plain": [
       "<Figure size 432x288 with 1 Axes>"
      ]
     },
     "metadata": {
      "needs_background": "light"
     },
     "output_type": "display_data"
    }
   ],
   "source": [
    "import matplotlib.pyplot as plt\n",
    "\n",
    "a = []\n",
    "b = []\n",
    "\n",
    "print(\"Train loss        Test loss\")\n",
    "for x in out_list:\n",
    "    a.append(float(x[0].split('_')[-1]))\n",
    "    b.append(float(x[1]))\n",
    "    print(a[-1], b[-1])\n",
    "    \n",
    "plt.yscale(\"log\")\n",
    "\n",
    "plt.xlabel('Epochs')\n",
    "plt.ylabel('MSE Loss')\n",
    "\n",
    "plt.plot(a)\n",
    "plt.plot(b)\n",
    "plt.show()"
   ]
  },
  {
   "cell_type": "code",
   "execution_count": 15,
   "id": "0ccef1ad",
   "metadata": {},
   "outputs": [
    {
     "name": "stdout",
     "output_type": "stream",
     "text": [
      "Train loss        Test loss\n",
      "419.16999172973635 623.5989990234375\n"
     ]
    }
   ],
   "source": [
    "# BEST EPOCH IS 14\n",
    "print(\"Train loss        Test loss\")\n",
    "print(a[16], b[16])"
   ]
  },
  {
   "cell_type": "code",
   "execution_count": null,
   "id": "e0032cec",
   "metadata": {},
   "outputs": [],
   "source": []
  }
 ],
 "metadata": {
  "kernelspec": {
   "display_name": "Python 3 (ipykernel)",
   "language": "python",
   "name": "python3"
  },
  "language_info": {
   "codemirror_mode": {
    "name": "ipython",
    "version": 3
   },
   "file_extension": ".py",
   "mimetype": "text/x-python",
   "name": "python",
   "nbconvert_exporter": "python",
   "pygments_lexer": "ipython3",
   "version": "3.9.6"
  }
 },
 "nbformat": 4,
 "nbformat_minor": 5
}
