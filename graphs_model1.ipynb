{
 "cells": [
  {
   "cell_type": "code",
   "execution_count": 1,
   "id": "34fddd92",
   "metadata": {},
   "outputs": [
    {
     "name": "stdout",
     "output_type": "stream",
     "text": [
      "cuda\n"
     ]
    }
   ],
   "source": [
    "import torch\n",
    "import torch.nn as nn\n",
    "import torch.optim as optim\n",
    "import torch.utils.data\n",
    "import torch.nn.functional as F\n",
    "\n",
    "from torchvision import datasets, models, transforms\n",
    "from torch.utils.data import DataLoader, Dataset\n",
    "\n",
    "import numpy as np\n",
    "import pandas as pd\n",
    "import matplotlib.pyplot as plt\n",
    "import os\n",
    "\n",
    "device = 'cuda' if torch.cuda.is_available() else 'cpu'\n",
    "print(device)"
   ]
  },
  {
   "cell_type": "markdown",
   "id": "997bd4d6",
   "metadata": {},
   "source": [
    "# Построим графики"
   ]
  },
  {
   "cell_type": "code",
   "execution_count": 2,
   "id": "63b24d27",
   "metadata": {},
   "outputs": [],
   "source": [
    "import re\n",
    "\n",
    "regex = re.compile(r'^[\\d]+_x=([-\\d.]+)_z=([-\\d.]+)_a=([-\\d.]+)_h=([-\\d.]+)[.]csv$')\n",
    "\n",
    "def label_from_path(path):\n",
    "    label = path.split('\\\\')[-1] # PLATFORM DEPENDENT!\n",
    "    m = regex.match(label)\n",
    "    out = [float(x) for x in m.groups()]\n",
    "    return torch.tensor(out, dtype=torch.float)\n",
    "\n",
    "def data_from_path(path):\n",
    "    data = pd.read_csv(path, sep=';')\n",
    "\n",
    "    time = data.values[:,0]\n",
    "    vx   = data.values[:,1::2]\n",
    "    vz   = data.values[:,2::2]\n",
    "    vabs = (vx ** 2 + vz ** 2) ** (1/2)\n",
    "    \n",
    "    vx   = torch.from_numpy(vx)\n",
    "    vz   = torch.from_numpy(vz)\n",
    "    vabs = torch.from_numpy(vabs)\n",
    "    \n",
    "    vx_fft   = torch.view_as_real(torch.fft.fft(vx)).permute(2, 0, 1)\n",
    "    vz_fft   = torch.view_as_real(torch.fft.fft(vz)).permute(2, 0, 1)\n",
    "    vabs_fft = torch.view_as_real(torch.fft.fft(vabs)).permute(2, 0, 1)\n",
    "\n",
    "    ret = torch.cat([vx.unsqueeze(0), vz.unsqueeze(0), vabs.unsqueeze(0), vx_fft, vz_fft, vabs_fft], dim=0)\n",
    "\n",
    "    return ret\n",
    "\n",
    "class CSVDataset(Dataset):\n",
    "    def __init__(self, path, device):\n",
    "        self.device = device\n",
    "        self.csv_list = [\n",
    "            (path + \"\\\\\" + i) for i in os.listdir(path) if i.split('.')[-1] == 'csv'\n",
    "        ]\n",
    "\n",
    "    def __getitem__(self, item):\n",
    "        d = data_from_path(self.csv_list[item]).to(device=device, dtype=torch.float)\n",
    "        l = label_from_path(self.csv_list[item]).to(device=device, dtype=torch.float)\n",
    "        return d, l\n",
    "\n",
    "    def __len__(self):\n",
    "        return len(self.csv_list)"
   ]
  },
  {
   "cell_type": "markdown",
   "id": "a6575816",
   "metadata": {},
   "source": [
    "# Модель 1"
   ]
  },
  {
   "cell_type": "code",
   "execution_count": null,
   "id": "2955c26d",
   "metadata": {},
   "outputs": [],
   "source": [
    "class Predictor(nn.Module):\n",
    "    def __init__(self):\n",
    "        super(Predictor, self).__init__()\n",
    "\n",
    "        self.feature_extractor = nn.Sequential(\n",
    "            #        in  out  ker size\n",
    "            nn.Conv2d(9, 256, 3),     # 9 = len([v_x, v_y, v_abs, 2*fft_vx, 2*fft_vy, 2*fft_vabs, ])\n",
    "            nn.MaxPool2d(2, 2), \n",
    "            nn.ReLU(inplace=True),\n",
    "            nn.BatchNorm2d(256),\n",
    "\n",
    "            nn.Conv2d(256, 512, 3, 2),\n",
    "            nn.MaxPool2d(2, 2),\n",
    "            nn.ReLU(inplace=True),\n",
    "            nn.BatchNorm2d(512),\n",
    "\n",
    "            nn.Conv2d(512, 1024, 3, 2),\n",
    "            nn.MaxPool2d(2, 2),\n",
    "            nn.ReLU(inplace=True),\n",
    "            nn.BatchNorm2d(1024),\n",
    "\n",
    "            nn.Conv2d(1024, 512, 2),\n",
    "        )\n",
    "\n",
    "        self.linear = nn.Linear(45, 256)\n",
    "        self.conv = nn.Sequential(\n",
    "            nn.Conv2d(512, 1, 1),\n",
    "            nn.ReLU(inplace=True)\n",
    "            )\n",
    "\n",
    "        self.linear2 = nn.Linear(256, 4) # 4 = x, z, a, h\n",
    "\n",
    "    def forward(self, input):\n",
    "        x = self.feature_extractor(input)\n",
    "        x = x.permute(0, 1, 3, 2)\n",
    "        x = self.linear(x)\n",
    "        x = self.conv(x)\n",
    "        x = x.squeeze(1).squeeze(1)\n",
    "        x = self.linear2(x)\n",
    "\n",
    "        return x"
   ]
  },
  {
   "cell_type": "code",
   "execution_count": 3,
   "id": "9a12ff36",
   "metadata": {},
   "outputs": [
    {
     "name": "stdout",
     "output_type": "stream",
     "text": [
      "['.\\\\weights\\\\lastest_0_45718.42092561849', '.\\\\weights\\\\lastest_10_893.2206697387695', '.\\\\weights\\\\lastest_11_865.6638067830404', '.\\\\weights\\\\lastest_12_675.6369711812338', '.\\\\weights\\\\lastest_13_644.1288631184896', '.\\\\weights\\\\lastest_14_612.9963515421549', '.\\\\weights\\\\lastest_15_553.7910185750326', '.\\\\weights\\\\lastest_16_520.0451358846028', '.\\\\weights\\\\lastest_17_536.1971237080892', '.\\\\weights\\\\lastest_18_503.4557669474284', '.\\\\weights\\\\lastest_19_371.2722960611979', '.\\\\weights\\\\lastest_1_4380.993061767578', '.\\\\weights\\\\lastest_20_421.7247384033203', '.\\\\weights\\\\lastest_21_423.6021992085775', '.\\\\weights\\\\lastest_22_403.09191474405924', '.\\\\weights\\\\lastest_23_340.65574354044594', '.\\\\weights\\\\lastest_24_302.9916340230306', '.\\\\weights\\\\lastest_2_2399.6213155110677', '.\\\\weights\\\\lastest_3_2000.367135172526', '.\\\\weights\\\\lastest_4_1690.668668294271', '.\\\\weights\\\\lastest_5_1477.8920306396485', '.\\\\weights\\\\lastest_6_1225.4641667073568', '.\\\\weights\\\\lastest_7_1225.8064201049804', '.\\\\weights\\\\lastest_8_983.1471684570313', '.\\\\weights\\\\lastest_9_806.7203869832357']\n"
     ]
    }
   ],
   "source": [
    "from tqdm import tqdm\n",
    "\n",
    "predictor = Predictor().to(device)\n",
    "loss_fn = nn.MSELoss()\n",
    "\n",
    "weight_path = \".\\\\weights\"\n",
    "epoch_list = [ (weight_path + \"\\\\\" + i) for i in os.listdir(weight_path)]\n",
    "\n",
    "out_list = []\n",
    "\n",
    "print(epoch_list)"
   ]
  },
  {
   "cell_type": "code",
   "execution_count": 6,
   "id": "12fc2c03",
   "metadata": {},
   "outputs": [
    {
     "name": "stderr",
     "output_type": "stream",
     "text": [
      "100%|██████████████████████████████████████████████████████████████████████████████████| 75/75 [00:44<00:00,  1.70it/s]\n",
      "100%|██████████████████████████████████████████████████████████████████████████████████| 75/75 [00:42<00:00,  1.75it/s]\n",
      "100%|██████████████████████████████████████████████████████████████████████████████████| 75/75 [00:43<00:00,  1.71it/s]\n",
      "100%|██████████████████████████████████████████████████████████████████████████████████| 75/75 [00:41<00:00,  1.81it/s]\n",
      "100%|██████████████████████████████████████████████████████████████████████████████████| 75/75 [00:44<00:00,  1.67it/s]\n",
      "100%|██████████████████████████████████████████████████████████████████████████████████| 75/75 [00:45<00:00,  1.67it/s]\n",
      "100%|██████████████████████████████████████████████████████████████████████████████████| 75/75 [00:44<00:00,  1.69it/s]\n",
      "100%|██████████████████████████████████████████████████████████████████████████████████| 75/75 [00:48<00:00,  1.53it/s]\n",
      "100%|██████████████████████████████████████████████████████████████████████████████████| 75/75 [00:45<00:00,  1.63it/s]\n",
      "100%|██████████████████████████████████████████████████████████████████████████████████| 75/75 [00:45<00:00,  1.65it/s]\n",
      "100%|██████████████████████████████████████████████████████████████████████████████████| 75/75 [00:48<00:00,  1.54it/s]\n",
      "100%|██████████████████████████████████████████████████████████████████████████████████| 75/75 [00:48<00:00,  1.55it/s]\n",
      "100%|██████████████████████████████████████████████████████████████████████████████████| 75/75 [00:45<00:00,  1.64it/s]\n",
      "100%|██████████████████████████████████████████████████████████████████████████████████| 75/75 [00:45<00:00,  1.63it/s]\n",
      "100%|██████████████████████████████████████████████████████████████████████████████████| 75/75 [00:47<00:00,  1.57it/s]\n",
      "100%|██████████████████████████████████████████████████████████████████████████████████| 75/75 [00:47<00:00,  1.59it/s]\n",
      "100%|██████████████████████████████████████████████████████████████████████████████████| 75/75 [00:45<00:00,  1.67it/s]\n",
      "100%|██████████████████████████████████████████████████████████████████████████████████| 75/75 [00:43<00:00,  1.71it/s]\n",
      "100%|██████████████████████████████████████████████████████████████████████████████████| 75/75 [00:43<00:00,  1.73it/s]\n",
      "100%|██████████████████████████████████████████████████████████████████████████████████| 75/75 [00:49<00:00,  1.51it/s]\n",
      "100%|██████████████████████████████████████████████████████████████████████████████████| 75/75 [00:52<00:00,  1.44it/s]\n",
      "100%|██████████████████████████████████████████████████████████████████████████████████| 75/75 [00:47<00:00,  1.57it/s]\n",
      "100%|██████████████████████████████████████████████████████████████████████████████████| 75/75 [00:49<00:00,  1.53it/s]\n",
      "100%|██████████████████████████████████████████████████████████████████████████████████| 75/75 [00:49<00:00,  1.52it/s]\n",
      "100%|██████████████████████████████████████████████████████████████████████████████████| 75/75 [00:47<00:00,  1.56it/s]\n"
     ]
    }
   ],
   "source": [
    "for fname in epoch_list:\n",
    "    predictor.load_state_dict(torch.load(fname))\n",
    "    test_data_loader = DataLoader(CSVDataset(\".\\\\csv_test\", device), batch_size=8, shuffle=True)\n",
    "    total_loss = 0\n",
    "    for data, label in tqdm(test_data_loader):\n",
    "        with torch.no_grad():\n",
    "            outputs = predictor(data)\n",
    "            total_loss += loss_fn(outputs, label)\n",
    "    \n",
    "    out_list.append( (fname, total_loss / len(test_data_loader)) )"
   ]
  },
  {
   "cell_type": "markdown",
   "id": "c6382bb8",
   "metadata": {},
   "source": [
    "# Результаты модели 1"
   ]
  },
  {
   "cell_type": "code",
   "execution_count": 23,
   "id": "2d0d2ff0",
   "metadata": {},
   "outputs": [
    {
     "name": "stdout",
     "output_type": "stream",
     "text": [
      "Train loss        Test loss\n",
      "45718.42092561849 7149.2001953125\n",
      "893.2206697387695 968.4253540039062\n",
      "865.6638067830404 887.6771240234375\n",
      "675.6369711812338 900.6986694335938\n",
      "644.1288631184896 839.3199462890625\n",
      "612.9963515421549 805.622802734375\n",
      "553.7910185750326 649.2198486328125\n",
      "520.0451358846028 537.1315307617188\n",
      "536.1971237080892 571.3587036132812\n",
      "503.4557669474284 685.5222778320312\n",
      "371.2722960611979 442.04052734375\n",
      "4380.993061767578 3077.397216796875\n",
      "421.7247384033203 580.1550903320312\n",
      "423.6021992085775 487.5481262207031\n",
      "403.09191474405924 412.7155456542969\n",
      "340.65574354044594 487.2925109863281\n",
      "302.9916340230306 457.4757995605469\n",
      "2399.6213155110677 2641.980224609375\n",
      "2000.367135172526 1745.7052001953125\n",
      "1690.668668294271 1623.0545654296875\n",
      "1477.8920306396485 1075.8087158203125\n",
      "1225.4641667073568 1401.0560302734375\n",
      "1225.8064201049804 1059.9393310546875\n",
      "983.1471684570313 1008.158447265625\n",
      "806.7203869832357 1129.2156982421875\n",
      "45718.42092561849 6681.580078125\n",
      "893.2206697387695 772.6471557617188\n",
      "865.6638067830404 622.1117553710938\n"
     ]
    },
    {
     "data": {
      "image/png": "[encoded data removed]",
      "text/plain": [
       "<Figure size 432x288 with 1 Axes>"
      ]
     },
     "metadata": {
      "needs_background": "light"
     },
     "output_type": "display_data"
    }
   ],
   "source": [
    "import matplotlib.pyplot as plt\n",
    "\n",
    "a = []\n",
    "b = []\n",
    "\n",
    "print(\"Train loss        Test loss\")\n",
    "for x in out_list:\n",
    "    a.append(float(x[0].split('_')[-1]))\n",
    "    b.append(float(x[1]))\n",
    "    print(a[-1], b[-1])\n",
    "    \n",
    "plt.yscale(\"log\")\n",
    "\n",
    "plt.xlabel('Epochs')\n",
    "plt.ylabel('MSE Loss')\n",
    "\n",
    "plt.plot(a)\n",
    "plt.plot(b)\n",
    "plt.show()"
   ]
  },
  {
   "cell_type": "code",
   "execution_count": 25,
   "id": "a5bc08ad",
   "metadata": {},
   "outputs": [
    {
     "name": "stdout",
     "output_type": "stream",
     "text": [
      "Train loss        Test loss\n",
      "371.2722960611979 442.04052734375\n"
     ]
    }
   ],
   "source": [
    "# BEST EPOCH IS 10\n",
    "print(\"Train loss        Test loss\")\n",
    "print(a[10], b[10])"
   ]
  },
  {
   "cell_type": "markdown",
   "id": "8c3be59a",
   "metadata": {},
   "source": [
    "# Модель 2"
   ]
  },
  {
   "cell_type": "code",
   "execution_count": 30,
   "id": "83f659ec",
   "metadata": {},
   "outputs": [
    {
     "name": "stdout",
     "output_type": "stream",
     "text": [
      "['.\\\\weights2\\\\lastest_0_38402.61959065755', '.\\\\weights2\\\\lastest_10_860.2220416870117', '.\\\\weights2\\\\lastest_11_885.8546338907878', '.\\\\weights2\\\\lastest_12_631.0371058146159', '.\\\\weights2\\\\lastest_13_651.6892075195312', '.\\\\weights2\\\\lastest_14_698.8807584431967', '.\\\\weights2\\\\lastest_15_637.4185698038737', '.\\\\weights2\\\\lastest_16_507.3536002400716', '.\\\\weights2\\\\lastest_17_538.5775926208496', '.\\\\weights2\\\\lastest_18_463.34521823120116', '.\\\\weights2\\\\lastest_19_490.6890422973633', '.\\\\weights2\\\\lastest_1_3517.890502766927', '.\\\\weights2\\\\lastest_20_426.86609565226235', '.\\\\weights2\\\\lastest_21_434.7606809285482', '.\\\\weights2\\\\lastest_22_462.1349581604004', '.\\\\weights2\\\\lastest_23_394.8121796061198', '.\\\\weights2\\\\lastest_24_461.16275701904294', '.\\\\weights2\\\\lastest_2_2304.585198852539', '.\\\\weights2\\\\lastest_3_1973.3168083902995', '.\\\\weights2\\\\lastest_4_1533.303080037435', '.\\\\weights2\\\\lastest_5_1339.7622233072916', '.\\\\weights2\\\\lastest_6_1191.8854018961588', '.\\\\weights2\\\\lastest_7_1098.9046418863932', '.\\\\weights2\\\\lastest_8_1022.8942905476888', '.\\\\weights2\\\\lastest_9_887.3866968994141']\n"
     ]
    }
   ],
   "source": [
    "from tqdm import tqdm\n",
    "\n",
    "predictor = Predictor().to(device)\n",
    "loss_fn = nn.MSELoss()\n",
    "\n",
    "weight_path = \".\\\\weights2\"\n",
    "epoch_list = [ (weight_path + \"\\\\\" + i) for i in os.listdir(weight_path)]\n",
    "\n",
    "out_list = []\n",
    "\n",
    "print(epoch_list)"
   ]
  },
  {
   "cell_type": "code",
   "execution_count": 31,
   "id": "fb2a6657",
   "metadata": {},
   "outputs": [],
   "source": [
    "class Predictor(nn.Module):\n",
    "    def __init__(self):\n",
    "        super(Predictor, self).__init__()\n",
    "\n",
    "        self.feature_extractor = nn.Sequential(\n",
    "            #        in  out  ker size\n",
    "            nn.Conv2d(9, 128, 3),     # 9 = len([v_x, v_y, v_abs, 2*fft_vx, 2*fft_vy, 2*fft_vabs, ])\n",
    "            nn.MaxPool2d(2, 2), \n",
    "            nn.ReLU(inplace=True),\n",
    "            nn.BatchNorm2d(128), #CHANGED\n",
    "\n",
    "            nn.Conv2d(128, 512, 3, 2),\n",
    "            nn.MaxPool2d(2, 2),\n",
    "            nn.ReLU(inplace=True),\n",
    "            nn.BatchNorm2d(512),\n",
    "\n",
    "            nn.Conv2d(512, 1024, 3, 2),\n",
    "            nn.MaxPool2d(2, 2),\n",
    "            nn.ReLU(inplace=True),\n",
    "            nn.BatchNorm2d(1024),\n",
    "\n",
    "            nn.Conv2d(1024, 512, 2),\n",
    "        )\n",
    "\n",
    "        self.linear = nn.Linear(45, 256)\n",
    "        self.conv = nn.Sequential(\n",
    "            nn.Conv2d(512, 1, 1),\n",
    "            nn.ReLU(inplace=True)\n",
    "            )\n",
    "\n",
    "        self.linear2 = nn.Linear(256, 4) # 4 = x, z, a, h\n",
    "\n",
    "    def forward(self, input):\n",
    "        x = self.feature_extractor(input)\n",
    "        x = x.permute(0, 1, 3, 2)\n",
    "        x = self.linear(x)\n",
    "        x = self.conv(x)\n",
    "        x = x.squeeze(1).squeeze(1)\n",
    "        x = self.linear2(x)\n",
    "\n",
    "        return x"
   ]
  },
  {
   "cell_type": "code",
   "execution_count": 32,
   "id": "4c0489f0",
   "metadata": {},
   "outputs": [
    {
     "name": "stderr",
     "output_type": "stream",
     "text": [
      "100%|██████████████████████████████████████████████████████████████████████████████████| 75/75 [00:55<00:00,  1.36it/s]\n",
      "100%|██████████████████████████████████████████████████████████████████████████████████| 75/75 [00:46<00:00,  1.61it/s]\n",
      "100%|██████████████████████████████████████████████████████████████████████████████████| 75/75 [00:44<00:00,  1.67it/s]\n",
      "100%|██████████████████████████████████████████████████████████████████████████████████| 75/75 [00:46<00:00,  1.61it/s]\n",
      "100%|██████████████████████████████████████████████████████████████████████████████████| 75/75 [00:45<00:00,  1.65it/s]\n",
      "100%|██████████████████████████████████████████████████████████████████████████████████| 75/75 [00:45<00:00,  1.66it/s]\n",
      "100%|██████████████████████████████████████████████████████████████████████████████████| 75/75 [00:46<00:00,  1.61it/s]\n",
      "100%|██████████████████████████████████████████████████████████████████████████████████| 75/75 [00:46<00:00,  1.61it/s]\n",
      "100%|██████████████████████████████████████████████████████████████████████████████████| 75/75 [00:48<00:00,  1.55it/s]\n",
      "100%|██████████████████████████████████████████████████████████████████████████████████| 75/75 [00:42<00:00,  1.78it/s]\n",
      "100%|██████████████████████████████████████████████████████████████████████████████████| 75/75 [00:41<00:00,  1.81it/s]\n",
      "100%|██████████████████████████████████████████████████████████████████████████████████| 75/75 [00:41<00:00,  1.81it/s]\n",
      "100%|██████████████████████████████████████████████████████████████████████████████████| 75/75 [00:41<00:00,  1.80it/s]\n",
      "100%|██████████████████████████████████████████████████████████████████████████████████| 75/75 [00:41<00:00,  1.81it/s]\n",
      "100%|██████████████████████████████████████████████████████████████████████████████████| 75/75 [00:41<00:00,  1.81it/s]\n",
      "100%|██████████████████████████████████████████████████████████████████████████████████| 75/75 [00:42<00:00,  1.77it/s]\n",
      "100%|██████████████████████████████████████████████████████████████████████████████████| 75/75 [00:40<00:00,  1.84it/s]\n",
      "100%|██████████████████████████████████████████████████████████████████████████████████| 75/75 [00:41<00:00,  1.81it/s]\n",
      "100%|██████████████████████████████████████████████████████████████████████████████████| 75/75 [00:41<00:00,  1.79it/s]\n",
      "100%|██████████████████████████████████████████████████████████████████████████████████| 75/75 [00:41<00:00,  1.81it/s]\n",
      "100%|██████████████████████████████████████████████████████████████████████████████████| 75/75 [00:41<00:00,  1.80it/s]\n",
      "100%|██████████████████████████████████████████████████████████████████████████████████| 75/75 [00:41<00:00,  1.79it/s]\n",
      "100%|██████████████████████████████████████████████████████████████████████████████████| 75/75 [00:42<00:00,  1.79it/s]\n",
      "100%|██████████████████████████████████████████████████████████████████████████████████| 75/75 [00:41<00:00,  1.80it/s]\n",
      "100%|██████████████████████████████████████████████████████████████████████████████████| 75/75 [00:41<00:00,  1.79it/s]\n"
     ]
    }
   ],
   "source": [
    "for fname in epoch_list:\n",
    "    predictor.load_state_dict(torch.load(fname))\n",
    "    test_data_loader = DataLoader(CSVDataset(\".\\\\csv_test\", device), batch_size=8, shuffle=True)\n",
    "    total_loss = 0\n",
    "    for data, label in tqdm(test_data_loader):\n",
    "        with torch.no_grad():\n",
    "            outputs = predictor(data)\n",
    "            total_loss += loss_fn(outputs, label)\n",
    "    \n",
    "    out_list.append( (fname, total_loss / len(test_data_loader)) )"
   ]
  },
  {
   "cell_type": "markdown",
   "id": "9051f5ea",
   "metadata": {},
   "source": [
    "# Результаты модели 2"
   ]
  },
  {
   "cell_type": "code",
   "execution_count": 34,
   "id": "f3dd607e",
   "metadata": {},
   "outputs": [
    {
     "name": "stdout",
     "output_type": "stream",
     "text": [
      "Train loss        Test loss\n",
      "38402.61959065755 5092.11328125\n",
      "860.2220416870117 750.200927734375\n",
      "885.8546338907878 973.9069213867188\n",
      "631.0371058146159 1166.58447265625\n",
      "651.6892075195312 739.5370483398438\n",
      "698.8807584431967 617.6380615234375\n",
      "637.4185698038737 609.187255859375\n",
      "507.3536002400716 600.5900268554688\n",
      "538.5775926208496 730.8438720703125\n",
      "463.34521823120116 622.0708618164062\n",
      "490.6890422973633 486.8482360839844\n",
      "3517.890502766927 2467.994140625\n",
      "426.86609565226235 440.7988586425781\n",
      "434.7606809285482 418.4544372558594\n",
      "462.1349581604004 654.3386840820312\n",
      "394.8121796061198 438.6369934082031\n",
      "461.16275701904294 776.3901977539062\n",
      "2304.585198852539 2168.390869140625\n",
      "1973.3168083902995 2108.31396484375\n",
      "1533.303080037435 1264.6961669921875\n",
      "1339.7622233072916 1400.027099609375\n",
      "1191.8854018961588 1488.4619140625\n",
      "1098.9046418863932 969.4558715820312\n",
      "1022.8942905476888 1056.484130859375\n",
      "887.3866968994141 761.1541748046875\n"
     ]
    },
    {
     "data": {
      "image/png": "[encoded data removed]",
      "text/plain": [
       "<Figure size 432x288 with 1 Axes>"
      ]
     },
     "metadata": {
      "needs_background": "light"
     },
     "output_type": "display_data"
    }
   ],
   "source": [
    "import matplotlib.pyplot as plt\n",
    "\n",
    "a = []\n",
    "b = []\n",
    "\n",
    "print(\"Train loss        Test loss\")\n",
    "for x in out_list:\n",
    "    a.append(float(x[0].split('_')[-1]))\n",
    "    b.append(float(x[1]))\n",
    "    print(a[-1], b[-1])\n",
    "    \n",
    "plt.yscale(\"log\")\n",
    "\n",
    "plt.xlabel('Epochs')\n",
    "plt.ylabel('MSE Loss')\n",
    "\n",
    "plt.plot(a)\n",
    "plt.plot(b)\n",
    "plt.show()"
   ]
  },
  {
   "cell_type": "code",
   "execution_count": 35,
   "id": "ce640468",
   "metadata": {},
   "outputs": [
    {
     "name": "stdout",
     "output_type": "stream",
     "text": [
      "Train loss        Test loss\n",
      "434.7606809285482 418.4544372558594\n"
     ]
    }
   ],
   "source": [
    "# BEST EPOCH IS 13\n",
    "print(\"Train loss        Test loss\")\n",
    "print(a[13], b[13])"
   ]
  },
  {
   "cell_type": "code",
   "execution_count": null,
   "id": "cdeb7d40",
   "metadata": {},
   "outputs": [],
   "source": []
  }
 ],
 "metadata": {
  "kernelspec": {
   "display_name": "Python 3 (ipykernel)",
   "language": "python",
   "name": "python3"
  },
  "language_info": {
   "codemirror_mode": {
    "name": "ipython",
    "version": 3
   },
   "file_extension": ".py",
   "mimetype": "text/x-python",
   "name": "python",
   "nbconvert_exporter": "python",
   "pygments_lexer": "ipython3",
   "version": "3.9.6"
  }
 },
 "nbformat": 4,
 "nbformat_minor": 5
}
