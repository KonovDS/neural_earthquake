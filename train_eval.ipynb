{
 "cells": [
  {
   "cell_type": "code",
   "execution_count": 2,
   "id": "9e8c60d8",
   "metadata": {},
   "outputs": [],
   "source": [
    "import torch\n",
    "import torch.nn as nn\n",
    "from torch.optim import Adam\n",
    "from utils import Predictor\n",
    "from utils import get_img_dataloader\n",
    "\n",
    "device = 'cpu'\n",
    "\n",
    "dl = get_img_dataloader(path='csv', device=device, batch_size=8, shuffle=True)\n",
    "loss_fn = nn.MSELoss()\n",
    "model = Predictor().to(device)\n",
    "model.load_state_dict(torch.load('weights/lastest_24_37280.89312965818'))\n",
    "\n",
    "optimizer = Adam(model.parameters(), lr=0.0003)"
   ]
  },
  {
   "cell_type": "code",
   "execution_count": null,
   "id": "4efb7ae7",
   "metadata": {},
   "outputs": [
    {
     "name": "stderr",
     "output_type": "stream",
     "text": [
      "  0%|                                                   | 0/826 [00:00<?, ?it/s]/home/irkstell/Desktop/denchik/utils.py:40: UserWarning: To copy construct from a tensor, it is recommended to use sourceTensor.clone().detach() or sourceTensor.clone().detach().requires_grad_(True), rather than torch.tensor(sourceTensor).\n",
      "  input = torch.tensor(input, dtype=torch.float)\n",
      "loss: 20061.904296875:   1%|▏                  | 10/826 [00:34<47:25,  3.49s/it]"
     ]
    }
   ],
   "source": [
    "from tqdm import tqdm\n",
    "import numpy as np\n",
    "\n",
    "num_epochs = 25\n",
    "pbar = tqdm(dl)\n",
    "all_loss = []\n",
    "\n",
    "for epoch in range(num_epochs):\n",
    "    running_loss = []\n",
    "    for data, label in pbar:\n",
    "        model.zero_grad()\n",
    "        \n",
    "        preds = model(data)\n",
    "        \n",
    "        loss = loss_fn(preds, label)\n",
    "        running_loss.append(loss.item())\n",
    "        loss.backward()\n",
    "        \n",
    "        optimizer.step()\n",
    "        \n",
    "        pbar.set_description(f\"loss: {loss.item()}\")\n",
    "    all_loss.append(running_loss)\n",
    "        \n",
    "    torch.save(model.state_dict(), f'weights/lastest_{epoch}_{np.mean(running_loss)}')"
   ]
  },
  {
   "cell_type": "code",
   "execution_count": 4,
   "id": "c4233e60",
   "metadata": {},
   "outputs": [],
   "source": [
    "test_dl = get_img_dataloader(path='test_csv', device=device, batch_size=32)"
   ]
  },
  {
   "cell_type": "code",
   "execution_count": 10,
   "id": "06453690",
   "metadata": {},
   "outputs": [
    {
     "name": "stderr",
     "output_type": "stream",
     "text": [
      "100%|███████████████████████████████████████████| 19/19 [01:33<00:00,  4.93s/it]\n"
     ]
    }
   ],
   "source": [
    "from tqdm import tqdm\n",
    "\n",
    "X_stds = []\n",
    "X_means = []\n",
    "y_stds = []\n",
    "y_means = []\n",
    "for data, label in tqdm(test_dl):\n",
    "    with torch.no_grad():\n",
    "        X_stds.append(torch.std(data, dim=0))\n",
    "        X_means.append(torch.mean(data, dim=0))\n",
    "        \n",
    "        y_stds.append(torch.std(label, dim=0))\n",
    "        y_means.append(torch.mean(label, dim=0))"
   ]
  },
  {
   "cell_type": "code",
   "execution_count": 30,
   "id": "c5eafe5c",
   "metadata": {},
   "outputs": [
    {
     "data": {
      "text/plain": [
       "0.09602436697796772"
      ]
     },
     "execution_count": 30,
     "metadata": {},
     "output_type": "execute_result"
    }
   ],
   "source": [
    "import numpy as np\n",
    "np.mean([_.item() for _ in scores])"
   ]
  },
  {
   "cell_type": "code",
   "execution_count": 28,
   "id": "0fa18b71",
   "metadata": {},
   "outputs": [
    {
     "data": {
      "text/plain": [
       "0.12307650713544142"
      ]
     },
     "execution_count": 28,
     "metadata": {},
     "output_type": "execute_result"
    }
   ],
   "source": [
    "import numpy as np\n",
    "np.mean([_.item() for _ in scores])"
   ]
  },
  {
   "cell_type": "code",
   "execution_count": 3,
   "id": "e8b367bb",
   "metadata": {},
   "outputs": [
    {
     "name": "stderr",
     "output_type": "stream",
     "text": [
      "/home/irkstell/Desktop/denchik/utils.py:40: UserWarning: To copy construct from a tensor, it is recommended to use sourceTensor.clone().detach() or sourceTensor.clone().detach().requires_grad_(True), rather than torch.tensor(sourceTensor).\n",
      "  input = torch.tensor(input, dtype=torch.float)\n"
     ]
    }
   ],
   "source": [
    "data, label = next(iter(dl))"
   ]
  },
  {
   "cell_type": "code",
   "execution_count": 9,
   "id": "09867e3b",
   "metadata": {},
   "outputs": [
    {
     "data": {
      "text/plain": [
       "tensor(0.0945, grad_fn=<MeanBackward0>)"
      ]
     },
     "execution_count": 9,
     "metadata": {},
     "output_type": "execute_result"
    }
   ],
   "source": [
    "torch.mean(torch.abs(model(data)[:, 2] - label[:, 2]) / label[:, 2])"
   ]
  },
  {
   "cell_type": "code",
   "execution_count": null,
   "id": "09321b01",
   "metadata": {},
   "outputs": [],
   "source": [
    "x = 0\n",
    "z = 1100\n",
    "a = 90\n",
    "h = 180 "
   ]
  },
  {
   "cell_type": "code",
   "execution_count": null,
   "id": "3b078d84",
   "metadata": {},
   "outputs": [],
   "source": []
  },
  {
   "cell_type": "code",
   "execution_count": null,
   "id": "df04488c",
   "metadata": {},
   "outputs": [],
   "source": [
    "# from matplotlib import pyplot as plt\n",
    "# from copy import deepcopy\n",
    "# # n = 0\n",
    "# # for loss in all_loss:\n",
    "# #     plt.plot(list(range(n, n + len(loss))), loss, color='red', alpha=(len(all_loss) - n) / len(all_loss))\n",
    "    \n",
    "# # plt.plot(list(range(len(all_loss))), [np.mean(loss) for loss in all_loss])\n",
    "# # plt.show()\n",
    "# ALL_loss = deepcopy(all_loss)"
   ]
  },
  {
   "cell_type": "code",
   "execution_count": null,
   "id": "7c1eca8c",
   "metadata": {},
   "outputs": [],
   "source": [
    "# # torch.save(model.state_dict(), f'weights/last')\n",
    "# model.load_state_dict(torch.load('weights/last'))"
   ]
  },
  {
   "cell_type": "code",
   "execution_count": null,
   "id": "60ad10e9",
   "metadata": {},
   "outputs": [],
   "source": [
    "# data, label = next(iter(dl))"
   ]
  },
  {
   "cell_type": "code",
   "execution_count": null,
   "id": "7ef616bc",
   "metadata": {},
   "outputs": [],
   "source": [
    "# percentage_error = torch.abs(model(data)[:, 2] - label[:, 2])/len(label[:, 2])"
   ]
  },
  {
   "cell_type": "code",
   "execution_count": null,
   "id": "8bfed575",
   "metadata": {},
   "outputs": [],
   "source": [
    "# torch.mean(percentage_error)"
   ]
  }
 ],
 "metadata": {
  "kernelspec": {
   "display_name": "Python 3 (ipykernel)",
   "language": "python",
   "name": "python3"
  },
  "language_info": {
   "codemirror_mode": {
    "name": "ipython",
    "version": 3
   },
   "file_extension": ".py",
   "mimetype": "text/x-python",
   "name": "python",
   "nbconvert_exporter": "python",
   "pygments_lexer": "ipython3",
   "version": "3.9.6"
  }
 },
 "nbformat": 4,
 "nbformat_minor": 5
}
