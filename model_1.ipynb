{
 "cells": [
  {
   "cell_type": "code",
   "execution_count": 1,
   "id": "67421c2e",
   "metadata": {},
   "outputs": [
    {
     "name": "stdout",
     "output_type": "stream",
     "text": [
      "cuda\n"
     ]
    }
   ],
   "source": [
    "import torch\n",
    "import torch.nn as nn\n",
    "import torch.optim as optim\n",
    "import torch.utils.data\n",
    "import torch.nn.functional as F\n",
    "\n",
    "from torchvision import datasets, models, transforms\n",
    "from torch.utils.data import DataLoader, Dataset\n",
    "\n",
    "import numpy as np\n",
    "import pandas as pd\n",
    "import matplotlib.pyplot as plt\n",
    "import os\n",
    "\n",
    "device = 'cuda' if torch.cuda.is_available() else 'cpu'\n",
    "print(device)"
   ]
  },
  {
   "cell_type": "markdown",
   "id": "84d65794",
   "metadata": {},
   "source": [
    "# Подготовка данных"
   ]
  },
  {
   "cell_type": "markdown",
   "id": "db9fef17",
   "metadata": {},
   "source": [
    "### Label from path"
   ]
  },
  {
   "cell_type": "code",
   "execution_count": 2,
   "id": "c6eda0dd",
   "metadata": {},
   "outputs": [],
   "source": [
    "import re\n",
    "\n",
    "regex = re.compile(r'^[\\d]+_x=([-\\d.]+)_z=([-\\d.]+)_a=([-\\d.]+)_h=([-\\d.]+)[.]csv$')\n",
    "\n",
    "def label_from_path(path):\n",
    "    label = path.split('\\\\')[-1] # PLATFORM DEPENDENT!\n",
    "    m = regex.match(label)\n",
    "    out = [float(x) for x in m.groups()]\n",
    "    return torch.tensor(out, dtype=torch.float)"
   ]
  },
  {
   "cell_type": "markdown",
   "id": "7dde15c9",
   "metadata": {},
   "source": [
    "##### Проверка"
   ]
  },
  {
   "cell_type": "code",
   "execution_count": 3,
   "id": "13f0e8e5",
   "metadata": {},
   "outputs": [
    {
     "data": {
      "text/plain": [
       "tensor([868.4225, 960.4449,  76.2514, 258.9329])"
      ]
     },
     "execution_count": 3,
     "metadata": {},
     "output_type": "execute_result"
    }
   ],
   "source": [
    "label_from_path(\".\\\\csv\\\\2_x=868.422572_z=960.444919_a=76.251414_h=258.932863.csv\")"
   ]
  },
  {
   "cell_type": "code",
   "execution_count": 4,
   "id": "b8f6645c",
   "metadata": {},
   "outputs": [
    {
     "data": {
      "text/plain": [
       "tensor([-1570.8066,   818.1426,   100.4284,   131.3216])"
      ]
     },
     "execution_count": 4,
     "metadata": {},
     "output_type": "execute_result"
    }
   ],
   "source": [
    "label_from_path(\".\\\\csv\\\\17_x=-1570.806600_z=818.142577_a=100.428380_h=131.321561.csv\")"
   ]
  },
  {
   "cell_type": "markdown",
   "id": "7ab7e258",
   "metadata": {},
   "source": [
    "### Data from path"
   ]
  },
  {
   "cell_type": "code",
   "execution_count": 5,
   "id": "7af22031",
   "metadata": {},
   "outputs": [],
   "source": [
    "def data_from_path(path):\n",
    "    data = pd.read_csv(path, sep=';')\n",
    "\n",
    "    time = data.values[:,0]\n",
    "    vx   = data.values[:,1::2]\n",
    "    vz   = data.values[:,2::2]\n",
    "    vabs = (vx ** 2 + vz ** 2) ** (1/2)\n",
    "    \n",
    "    vx   = torch.from_numpy(vx)\n",
    "    vz   = torch.from_numpy(vz)\n",
    "    vabs = torch.from_numpy(vabs)\n",
    "    \n",
    "    vx_fft   = torch.view_as_real(torch.fft.fft(vx)).permute(2, 0, 1)\n",
    "    vz_fft   = torch.view_as_real(torch.fft.fft(vz)).permute(2, 0, 1)\n",
    "    vabs_fft = torch.view_as_real(torch.fft.fft(vabs)).permute(2, 0, 1)\n",
    "\n",
    "    ret = torch.cat([vx.unsqueeze(0), vz.unsqueeze(0), vabs.unsqueeze(0), vx_fft, vz_fft, vabs_fft], dim=0)\n",
    "\n",
    "    return ret"
   ]
  },
  {
   "cell_type": "markdown",
   "id": "064cc89b",
   "metadata": {},
   "source": [
    "##### Проверка"
   ]
  },
  {
   "cell_type": "code",
   "execution_count": 6,
   "id": "c9aaa9f3",
   "metadata": {},
   "outputs": [
    {
     "name": "stdout",
     "output_type": "stream",
     "text": [
      "torch.Size([9, 1501, 101])\n"
     ]
    }
   ],
   "source": [
    "a = data_from_path(\".\\\\csv\\\\1_x=-1249.284300_z=864.531961_a=79.588408_h=220.791249.csv\")\n",
    "# В каждом .csv ФАЙЛЕ 1501 шаг по времени. Датчиков всего 101, каждый по vx, vz + ABS + 2*3 FFT (real + im) each\n",
    "print(a.shape)\n",
    "del a"
   ]
  },
  {
   "cell_type": "markdown",
   "id": "8a0dde81",
   "metadata": {},
   "source": [
    "### Dataset"
   ]
  },
  {
   "cell_type": "code",
   "execution_count": 7,
   "id": "2b9c9773",
   "metadata": {},
   "outputs": [],
   "source": [
    "class CSVDataset(Dataset):\n",
    "    def __init__(self, path, device):\n",
    "        self.device = device\n",
    "        self.csv_list = [\n",
    "            (path + \"\\\\\" + i) for i in os.listdir(path) if i.split('.')[-1] == 'csv'\n",
    "        ]\n",
    "\n",
    "    def __getitem__(self, item):\n",
    "        d = data_from_path(self.csv_list[item]).to(device=device, dtype=torch.float)\n",
    "        l = label_from_path(self.csv_list[item]).to(device=device, dtype=torch.float)\n",
    "        return d, l\n",
    "\n",
    "    def __len__(self):\n",
    "        return len(self.csv_list)"
   ]
  },
  {
   "cell_type": "markdown",
   "id": "4e2efec2",
   "metadata": {},
   "source": [
    "##### Проверка"
   ]
  },
  {
   "cell_type": "code",
   "execution_count": 8,
   "id": "e8b63f39",
   "metadata": {},
   "outputs": [
    {
     "name": "stdout",
     "output_type": "stream",
     "text": [
      "6000\n",
      "torch.Size([9, 1501, 101])\n",
      "tensor([-1689.9094,   926.8306,    88.2944,   122.9407], device='cuda:0')\n"
     ]
    }
   ],
   "source": [
    "test_ds = CSVDataset(\".\\\\csv\", device)\n",
    "print(len(test_ds))\n",
    "a, b = test_ds[0]\n",
    "print(a.size())\n",
    "print(b)\n",
    "del test_ds\n",
    "del a\n",
    "del b"
   ]
  },
  {
   "cell_type": "markdown",
   "id": "80455221",
   "metadata": {},
   "source": [
    "# Архитектура сети"
   ]
  },
  {
   "cell_type": "code",
   "execution_count": 9,
   "id": "537fd390",
   "metadata": {},
   "outputs": [],
   "source": [
    "class Predictor(nn.Module):\n",
    "    def __init__(self):\n",
    "        super(Predictor, self).__init__()\n",
    "\n",
    "        self.feature_extractor = nn.Sequential(\n",
    "            #        in  out  ker size\n",
    "            nn.Conv2d(9, 256, 3),     # 9 = len([v_x, v_y, v_abs, 2*fft_vx, 2*fft_vy, 2*fft_vabs, ])\n",
    "            nn.MaxPool2d(2, 2), \n",
    "            nn.ReLU(inplace=True),\n",
    "            nn.BatchNorm2d(256),\n",
    "\n",
    "            nn.Conv2d(256, 512, 3, 2),\n",
    "            nn.MaxPool2d(2, 2),\n",
    "            nn.ReLU(inplace=True),\n",
    "            nn.BatchNorm2d(512),\n",
    "\n",
    "            nn.Conv2d(512, 1024, 3, 2),\n",
    "            nn.MaxPool2d(2, 2),\n",
    "            nn.ReLU(inplace=True),\n",
    "            nn.BatchNorm2d(1024),\n",
    "\n",
    "            nn.Conv2d(1024, 512, 2),\n",
    "        )\n",
    "\n",
    "        self.linear = nn.Linear(45, 256)\n",
    "        self.conv = nn.Sequential(\n",
    "            nn.Conv2d(512, 1, 1),\n",
    "            nn.ReLU(inplace=True)\n",
    "            )\n",
    "\n",
    "        self.linear2 = nn.Linear(256, 4) # 4 = x, z, a, h\n",
    "\n",
    "    def forward(self, input):\n",
    "        x = self.feature_extractor(input)\n",
    "        x = x.permute(0, 1, 3, 2)\n",
    "        x = self.linear(x)\n",
    "        x = self.conv(x)\n",
    "        x = x.squeeze(1).squeeze(1)\n",
    "        x = self.linear2(x)\n",
    "\n",
    "        return x"
   ]
  },
  {
   "cell_type": "markdown",
   "id": "10eec21f",
   "metadata": {},
   "source": [
    "# Обучение"
   ]
  },
  {
   "cell_type": "code",
   "execution_count": null,
   "id": "0e56c577",
   "metadata": {},
   "outputs": [],
   "source": [
    "predictor = Predictor().to(device)\n",
    "data_loader = DataLoader(CSVDataset(\".\\\\csv\", device), batch_size=8, shuffle=True)\n",
    "loss_fn = nn.MSELoss()\n",
    "optimizer = optim.Adam(predictor.parameters(), lr=0.0003)"
   ]
  },
  {
   "cell_type": "code",
   "execution_count": null,
   "id": "1e2a7ceb",
   "metadata": {},
   "outputs": [],
   "source": [
    "from tqdm import tqdm\n",
    "\n",
    "num_epochs = 25\n",
    "progress = tqdm(data_loader)\n",
    "all_loss = []\n",
    "\n",
    "for epoch in range(num_epochs):\n",
    "    running_loss = []\n",
    "    for inputs, label in progress:\n",
    "        # zero the parameter gradients\n",
    "        optimizer.zero_grad()\n",
    "        # predict\n",
    "        outputs = predictor(inputs)\n",
    "        # loss\n",
    "        loss = loss_fn(outputs, label)\n",
    "        running_loss.append(loss.item())\n",
    "        loss.backward()\n",
    "        optimizer.step()\n",
    "\n",
    "        # print statistics\n",
    "        progress.set_description(f\"loss: {loss.item()}\")\n",
    "    \n",
    "    all_loss.append(running_loss)\n",
    "    torch.save(predictor.state_dict(), f'.\\\\weights\\\\lastest_{epoch}_{np.mean(running_loss)}')\n",
    "\n",
    "print('Finished Training')"
   ]
  }
 ],
 "metadata": {
  "kernelspec": {
   "display_name": "Python 3 (ipykernel)",
   "language": "python",
   "name": "python3"
  },
  "language_info": {
   "codemirror_mode": {
    "name": "ipython",
    "version": 3
   },
   "file_extension": ".py",
   "mimetype": "text/x-python",
   "name": "python",
   "nbconvert_exporter": "python",
   "pygments_lexer": "ipython3",
   "version": "3.9.6"
  }
 },
 "nbformat": 4,
 "nbformat_minor": 5
}
