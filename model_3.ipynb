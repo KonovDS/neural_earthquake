{
 "cells": [
  {
   "cell_type": "code",
   "execution_count": 1,
   "id": "3d6933f3",
   "metadata": {},
   "outputs": [
    {
     "name": "stdout",
     "output_type": "stream",
     "text": [
      "cuda\n"
     ]
    }
   ],
   "source": [
    "import torch\n",
    "import torch.nn as nn\n",
    "import torch.optim as optim\n",
    "import torch.utils.data\n",
    "import torch.nn.functional as F\n",
    "\n",
    "from torchvision import datasets, models, transforms\n",
    "from torch.utils.data import DataLoader, Dataset\n",
    "\n",
    "import numpy as np\n",
    "import pandas as pd\n",
    "import matplotlib.pyplot as plt\n",
    "import os\n",
    "\n",
    "device = 'cuda' if torch.cuda.is_available() else 'cpu'\n",
    "print(device)"
   ]
  },
  {
   "cell_type": "code",
   "execution_count": 2,
   "id": "7ed3c8a1",
   "metadata": {},
   "outputs": [],
   "source": [
    "import re\n",
    "\n",
    "regex = re.compile(r'^[\\d]+_x=([-\\d.]+)_z=([-\\d.]+)_a=([-\\d.]+)_h=([-\\d.]+)[.]csv$')\n",
    "\n",
    "def label_from_path(path):\n",
    "    label = path.split('\\\\')[-1] # PLATFORM DEPENDENT!\n",
    "    m = regex.match(label)\n",
    "    out = [float(x) for x in m.groups()]\n",
    "    return torch.tensor(out, dtype=torch.float)"
   ]
  },
  {
   "cell_type": "code",
   "execution_count": 3,
   "id": "7bc4c7bc",
   "metadata": {},
   "outputs": [],
   "source": [
    "def data_from_path(path):\n",
    "    data = pd.read_csv(path, sep=';')\n",
    "\n",
    "    time = data.values[:,0]\n",
    "    vx   = data.values[:,1::2]\n",
    "    vz   = data.values[:,2::2]\n",
    "    vabs = (vx ** 2 + vz ** 2) ** (1/2)\n",
    "    \n",
    "    vx   = torch.from_numpy(vx)\n",
    "    vz   = torch.from_numpy(vz)\n",
    "    vabs = torch.from_numpy(vabs)\n",
    "    \n",
    "    vx_fft   = torch.view_as_real(torch.fft.fft(vx)).permute(2, 0, 1)\n",
    "    vz_fft   = torch.view_as_real(torch.fft.fft(vz)).permute(2, 0, 1)\n",
    "    vabs_fft = torch.view_as_real(torch.fft.fft(vabs)).permute(2, 0, 1)\n",
    "\n",
    "    ret = torch.cat([vx.unsqueeze(0), vz.unsqueeze(0), vabs.unsqueeze(0), vx_fft, vz_fft, vabs_fft], dim=0)\n",
    "\n",
    "    return ret"
   ]
  },
  {
   "cell_type": "code",
   "execution_count": 4,
   "id": "40badcc2",
   "metadata": {},
   "outputs": [],
   "source": [
    "class CSVDataset(Dataset):\n",
    "    def __init__(self, path, device):\n",
    "        self.device = device\n",
    "        self.csv_list = [\n",
    "            (path + \"\\\\\" + i) for i in os.listdir(path) if i.split('.')[-1] == 'csv'\n",
    "        ]\n",
    "\n",
    "    def __getitem__(self, item):\n",
    "        d = data_from_path(self.csv_list[item]).to(device=device, dtype=torch.float)\n",
    "        l = label_from_path(self.csv_list[item]).to(device=device, dtype=torch.float)\n",
    "        return d, l\n",
    "\n",
    "    def __len__(self):\n",
    "        return len(self.csv_list)"
   ]
  },
  {
   "cell_type": "code",
   "execution_count": 5,
   "id": "e4bb68fd",
   "metadata": {},
   "outputs": [],
   "source": [
    "class Predictor(nn.Module):\n",
    "    def __init__(self):\n",
    "        super(Predictor, self).__init__()\n",
    "\n",
    "        self.feature_extractor = nn.Sequential(\n",
    "            #        in  out  ker size\n",
    "            nn.Conv2d(9, 64, 3),     # 9 = len([v_x, v_y, v_abs, 2*fft_vx, 2*fft_vy, 2*fft_vabs, ])\n",
    "            nn.MaxPool2d(2, 2), \n",
    "            nn.ReLU(inplace=True),\n",
    "            nn.BatchNorm2d(64),\n",
    "\n",
    "            nn.Conv2d(64, 512, 3, 2),\n",
    "            nn.MaxPool2d(2, 2),\n",
    "            nn.ReLU(inplace=True),\n",
    "            nn.BatchNorm2d(512),\n",
    "\n",
    "            nn.Conv2d(512, 1024, 3, 2),\n",
    "            nn.MaxPool2d(2, 2),\n",
    "            nn.ReLU(inplace=True),\n",
    "            nn.BatchNorm2d(1024),\n",
    "\n",
    "            nn.Conv2d(1024, 512, 2),\n",
    "        )\n",
    "\n",
    "        self.linear = nn.Linear(45, 256)\n",
    "        self.conv = nn.Sequential(\n",
    "            nn.Conv2d(512, 1, 1),\n",
    "            nn.ReLU(inplace=True)\n",
    "            )\n",
    "\n",
    "        self.linear2 = nn.Linear(256, 4) # 4 = x, z, a, h\n",
    "\n",
    "    def forward(self, input):\n",
    "        x = self.feature_extractor(input)\n",
    "        x = x.permute(0, 1, 3, 2)\n",
    "        x = self.linear(x)\n",
    "        x = self.conv(x)\n",
    "        x = x.squeeze(1).squeeze(1)\n",
    "        x = self.linear2(x)\n",
    "\n",
    "        return x"
   ]
  },
  {
   "cell_type": "code",
   "execution_count": 6,
   "id": "c8619eec",
   "metadata": {},
   "outputs": [],
   "source": [
    "predictor = Predictor().to(device)\n",
    "data_loader = DataLoader(CSVDataset(\".\\\\csv\", device), batch_size=8, shuffle=True)\n",
    "loss_fn = nn.MSELoss()\n",
    "optimizer = optim.Adam(predictor.parameters(), lr=0.0003)"
   ]
  },
  {
   "cell_type": "code",
   "execution_count": 7,
   "id": "355e6e49",
   "metadata": {},
   "outputs": [
    {
     "name": "stderr",
     "output_type": "stream",
     "text": [
      "loss: 2236.127685546875: 100%|███████████████████████████████████████████████████████| 750/750 [10:28<00:00,  1.19it/s]\n",
      "loss: 3327.13916015625: 100%|████████████████████████████████████████████████████████| 750/750 [09:26<00:00,  1.32it/s]\n",
      "loss: 1433.2216796875: 100%|█████████████████████████████████████████████████████████| 750/750 [09:20<00:00,  1.34it/s]\n",
      "loss: 1925.24658203125: 100%|████████████████████████████████████████████████████████| 750/750 [09:26<00:00,  1.33it/s]\n",
      "loss: 3857.43603515625: 100%|████████████████████████████████████████████████████████| 750/750 [09:41<00:00,  1.29it/s]\n",
      "loss: 802.9754638671875: 100%|███████████████████████████████████████████████████████| 750/750 [09:31<00:00,  1.31it/s]\n",
      "loss: 342.04083251953125: 100%|██████████████████████████████████████████████████████| 750/750 [09:39<00:00,  1.29it/s]\n",
      "loss: 401.9288330078125: 100%|███████████████████████████████████████████████████████| 750/750 [09:53<00:00,  1.26it/s]\n",
      "loss: 546.13916015625: 100%|█████████████████████████████████████████████████████████| 750/750 [09:47<00:00,  1.28it/s]\n",
      "loss: 321.50921630859375: 100%|██████████████████████████████████████████████████████| 750/750 [09:49<00:00,  1.27it/s]\n",
      "loss: 810.2832641601562: 100%|███████████████████████████████████████████████████████| 750/750 [09:49<00:00,  1.27it/s]\n",
      "loss: 857.091064453125: 100%|████████████████████████████████████████████████████████| 750/750 [09:52<00:00,  1.27it/s]\n",
      "loss: 726.3194580078125: 100%|███████████████████████████████████████████████████████| 750/750 [09:44<00:00,  1.28it/s]\n",
      "loss: 356.41357421875: 100%|█████████████████████████████████████████████████████████| 750/750 [09:59<00:00,  1.25it/s]\n",
      "loss: 1226.988037109375: 100%|███████████████████████████████████████████████████████| 750/750 [10:02<00:00,  1.24it/s]\n",
      "loss: 834.5054931640625: 100%|███████████████████████████████████████████████████████| 750/750 [09:26<00:00,  1.32it/s]\n",
      "loss: 383.7626037597656: 100%|███████████████████████████████████████████████████████| 750/750 [08:57<00:00,  1.40it/s]\n",
      "loss: 210.8243408203125: 100%|███████████████████████████████████████████████████████| 750/750 [08:59<00:00,  1.39it/s]\n",
      "loss: 657.1365966796875: 100%|███████████████████████████████████████████████████████| 750/750 [09:01<00:00,  1.38it/s]\n",
      "loss: 1514.090576171875: 100%|███████████████████████████████████████████████████████| 750/750 [09:04<00:00,  1.38it/s]\n",
      "loss: 479.25396728515625: 100%|██████████████████████████████████████████████████████| 750/750 [09:14<00:00,  1.35it/s]\n",
      "loss: 300.7611083984375: 100%|███████████████████████████████████████████████████████| 750/750 [09:17<00:00,  1.35it/s]\n",
      "loss: 124.50721740722656: 100%|██████████████████████████████████████████████████████| 750/750 [09:05<00:00,  1.38it/s]\n",
      "loss: 470.052001953125: 100%|████████████████████████████████████████████████████████| 750/750 [09:01<00:00,  1.38it/s]\n",
      "loss: 285.3267822265625: 100%|███████████████████████████████████████████████████████| 750/750 [08:59<00:00,  1.39it/s]"
     ]
    },
    {
     "name": "stdout",
     "output_type": "stream",
     "text": [
      "Finished Training\n"
     ]
    },
    {
     "name": "stderr",
     "output_type": "stream",
     "text": [
      "\n"
     ]
    }
   ],
   "source": [
    "from tqdm import tqdm\n",
    "\n",
    "num_epochs = 25\n",
    "all_loss = []\n",
    "\n",
    "for epoch in range(num_epochs):\n",
    "    progress = tqdm(data_loader)\n",
    "    running_loss = []\n",
    "    for inputs, label in progress:\n",
    "        # zero the parameter gradients\n",
    "        optimizer.zero_grad()\n",
    "        # predict\n",
    "        outputs = predictor(inputs)\n",
    "        # loss\n",
    "        loss = loss_fn(outputs, label)\n",
    "        running_loss.append(loss.item())\n",
    "        loss.backward()\n",
    "        optimizer.step()\n",
    "\n",
    "        # print statistics\n",
    "        progress.set_description(f\"loss: {loss.item()}\")\n",
    "    \n",
    "    all_loss.append(running_loss)\n",
    "    torch.save(predictor.state_dict(), f'.\\\\weights\\\\lastest_{epoch}_{np.mean(running_loss)}')\n",
    "\n",
    "print('Finished Training')"
   ]
  },
  {
   "cell_type": "code",
   "execution_count": 14,
   "id": "8dfce07f",
   "metadata": {},
   "outputs": [
    {
     "name": "stdout",
     "output_type": "stream",
     "text": [
      "['.\\\\w3\\\\lastest_0_37995.8162820638', '.\\\\w3\\\\lastest_10_847.6630532633463', '.\\\\w3\\\\lastest_11_796.7646643676758', '.\\\\w3\\\\lastest_12_689.7228363647461', '.\\\\w3\\\\lastest_13_683.1011740722656', '.\\\\w3\\\\lastest_14_666.5717091674804', '.\\\\w3\\\\lastest_15_656.4136258138021', '.\\\\w3\\\\lastest_16_512.8400864461263', '.\\\\w3\\\\lastest_17_498.35995985921227', '.\\\\w3\\\\lastest_18_495.0183553161621', '.\\\\w3\\\\lastest_19_446.92242497762044', '.\\\\w3\\\\lastest_1_3715.439570963542', '.\\\\w3\\\\lastest_20_514.0208389282227', '.\\\\w3\\\\lastest_21_453.59397260538736', '.\\\\w3\\\\lastest_22_478.74707580566405', '.\\\\w3\\\\lastest_23_359.4045446370443', '.\\\\w3\\\\lastest_24_401.64379184977213', '.\\\\w3\\\\lastest_2_2604.4470025227865', '.\\\\w3\\\\lastest_3_1773.6341033528645', '.\\\\w3\\\\lastest_4_1547.2999309895833', '.\\\\w3\\\\lastest_5_1316.9536556803384', '.\\\\w3\\\\lastest_6_1197.787421142578', '.\\\\w3\\\\lastest_7_1003.76023832194', '.\\\\w3\\\\lastest_8_1064.9276525472005', '.\\\\w3\\\\lastest_9_843.9003755289714']\n"
     ]
    }
   ],
   "source": [
    "from tqdm import tqdm\n",
    "\n",
    "predictor = Predictor().to(device)\n",
    "loss_fn = nn.MSELoss()\n",
    "\n",
    "weight_path = \".\\\\w3\"\n",
    "epoch_list = [ (weight_path + \"\\\\\" + i) for i in os.listdir(weight_path)]\n",
    "\n",
    "out_list = []\n",
    "\n",
    "print(epoch_list)"
   ]
  },
  {
   "cell_type": "code",
   "execution_count": 15,
   "id": "d80b549c",
   "metadata": {},
   "outputs": [
    {
     "name": "stderr",
     "output_type": "stream",
     "text": [
      "100%|██████████████████████████████████████████████████████████████████████████████████| 75/75 [00:42<00:00,  1.75it/s]\n",
      "100%|██████████████████████████████████████████████████████████████████████████████████| 75/75 [00:43<00:00,  1.72it/s]\n",
      "100%|██████████████████████████████████████████████████████████████████████████████████| 75/75 [00:44<00:00,  1.70it/s]\n",
      "100%|██████████████████████████████████████████████████████████████████████████████████| 75/75 [00:42<00:00,  1.77it/s]\n",
      "100%|██████████████████████████████████████████████████████████████████████████████████| 75/75 [00:44<00:00,  1.69it/s]\n",
      "100%|██████████████████████████████████████████████████████████████████████████████████| 75/75 [00:42<00:00,  1.77it/s]\n",
      "100%|██████████████████████████████████████████████████████████████████████████████████| 75/75 [00:42<00:00,  1.74it/s]\n",
      "100%|██████████████████████████████████████████████████████████████████████████████████| 75/75 [00:43<00:00,  1.72it/s]\n",
      "100%|██████████████████████████████████████████████████████████████████████████████████| 75/75 [00:43<00:00,  1.74it/s]\n",
      "100%|██████████████████████████████████████████████████████████████████████████████████| 75/75 [00:43<00:00,  1.74it/s]\n",
      "100%|██████████████████████████████████████████████████████████████████████████████████| 75/75 [00:43<00:00,  1.71it/s]\n",
      "100%|██████████████████████████████████████████████████████████████████████████████████| 75/75 [00:45<00:00,  1.67it/s]\n",
      "100%|██████████████████████████████████████████████████████████████████████████████████| 75/75 [00:42<00:00,  1.75it/s]\n",
      "100%|██████████████████████████████████████████████████████████████████████████████████| 75/75 [00:38<00:00,  1.92it/s]\n",
      "100%|██████████████████████████████████████████████████████████████████████████████████| 75/75 [00:38<00:00,  1.96it/s]\n",
      "100%|██████████████████████████████████████████████████████████████████████████████████| 75/75 [00:38<00:00,  1.97it/s]\n",
      "100%|██████████████████████████████████████████████████████████████████████████████████| 75/75 [00:38<00:00,  1.96it/s]\n",
      "100%|██████████████████████████████████████████████████████████████████████████████████| 75/75 [00:38<00:00,  1.96it/s]\n",
      "100%|██████████████████████████████████████████████████████████████████████████████████| 75/75 [00:38<00:00,  1.96it/s]\n",
      "100%|██████████████████████████████████████████████████████████████████████████████████| 75/75 [00:38<00:00,  1.94it/s]\n",
      "100%|██████████████████████████████████████████████████████████████████████████████████| 75/75 [00:38<00:00,  1.96it/s]\n",
      "100%|██████████████████████████████████████████████████████████████████████████████████| 75/75 [00:38<00:00,  1.96it/s]\n",
      "100%|██████████████████████████████████████████████████████████████████████████████████| 75/75 [00:37<00:00,  1.98it/s]\n",
      "100%|██████████████████████████████████████████████████████████████████████████████████| 75/75 [00:37<00:00,  1.98it/s]\n",
      "100%|██████████████████████████████████████████████████████████████████████████████████| 75/75 [00:38<00:00,  1.96it/s]\n"
     ]
    }
   ],
   "source": [
    "for fname in epoch_list:\n",
    "    predictor.load_state_dict(torch.load(fname))\n",
    "    test_data_loader = DataLoader(CSVDataset(\".\\\\csv_test\", device), batch_size=8, shuffle=True)\n",
    "    total_loss = 0\n",
    "    for data, label in tqdm(test_data_loader):\n",
    "        with torch.no_grad():\n",
    "            outputs = predictor(data)\n",
    "            total_loss += loss_fn(outputs, label)\n",
    "    \n",
    "    out_list.append( (fname, total_loss / len(test_data_loader)) )"
   ]
  },
  {
   "cell_type": "code",
   "execution_count": 16,
   "id": "4a093a52",
   "metadata": {},
   "outputs": [
    {
     "name": "stdout",
     "output_type": "stream",
     "text": [
      "Train loss        Test loss\n",
      "37995.8162820638 4358.88720703125\n",
      "847.6630532633463 1021.8834838867188\n",
      "796.7646643676758 532.3521728515625\n",
      "689.7228363647461 1297.5308837890625\n",
      "683.1011740722656 962.8535766601562\n",
      "666.5717091674804 730.9874877929688\n",
      "656.4136258138021 586.3178100585938\n",
      "512.8400864461263 435.5487976074219\n",
      "498.35995985921227 519.0006103515625\n",
      "495.0183553161621 566.9306640625\n",
      "446.92242497762044 435.7857971191406\n",
      "3715.439570963542 2900.21435546875\n",
      "514.0208389282227 461.0843811035156\n",
      "453.59397260538736 606.5643920898438\n",
      "478.74707580566405 382.3622131347656\n",
      "359.4045446370443 634.227294921875\n",
      "401.64379184977213 441.9477844238281\n",
      "2604.4470025227865 2201.61279296875\n",
      "1773.6341033528645 1319.8623046875\n",
      "1547.2999309895833 3375.68212890625\n",
      "1316.9536556803384 1123.096435546875\n",
      "1197.787421142578 989.2932739257812\n",
      "1003.76023832194 1054.9373779296875\n",
      "1064.9276525472005 752.2247314453125\n",
      "843.9003755289714 667.4841918945312\n"
     ]
    },
    {
     "data": {
      "image/png": "[encoded data removed]",
      "text/plain": [
       "<Figure size 432x288 with 1 Axes>"
      ]
     },
     "metadata": {
      "needs_background": "light"
     },
     "output_type": "display_data"
    }
   ],
   "source": [
    "import matplotlib.pyplot as plt\n",
    "\n",
    "a = []\n",
    "b = []\n",
    "\n",
    "print(\"Train loss        Test loss\")\n",
    "for x in out_list:\n",
    "    a.append(float(x[0].split('_')[-1]))\n",
    "    b.append(float(x[1]))\n",
    "    print(a[-1], b[-1])\n",
    "    \n",
    "plt.yscale(\"log\")\n",
    "\n",
    "plt.xlabel('Epochs')\n",
    "plt.ylabel('MSE Loss')\n",
    "\n",
    "plt.plot(a)\n",
    "plt.plot(b)\n",
    "plt.show()"
   ]
  },
  {
   "cell_type": "code",
   "execution_count": 17,
   "id": "1ceceb50",
   "metadata": {},
   "outputs": [
    {
     "name": "stdout",
     "output_type": "stream",
     "text": [
      "Train loss        Test loss\n",
      "478.74707580566405 382.3622131347656\n"
     ]
    }
   ],
   "source": [
    "# BEST EPOCH IS 14\n",
    "print(\"Train loss        Test loss\")\n",
    "print(a[14], b[14])"
   ]
  },
  {
   "cell_type": "code",
   "execution_count": 9,
   "id": "aed96816",
   "metadata": {},
   "outputs": [],
   "source": [
    "import os\n",
    "os.environ[\"PATH\"] += os.pathsep + 'C:\\\\Program Files (x86)\\\\Graphviz\\\\bin\\\\'"
   ]
  },
  {
   "cell_type": "code",
   "execution_count": 11,
   "id": "cac34619",
   "metadata": {},
   "outputs": [
    {
     "data": {
      "text/plain": [
       "'rnn_torchviz.png'"
      ]
     },
     "execution_count": 11,
     "metadata": {},
     "output_type": "execute_result"
    }
   ],
   "source": [
    "from torchviz import make_dot\n",
    "\n",
    "predictor = Predictor().to(device)\n",
    "predictor.load_state_dict(torch.load('.\\\\w3\\\\lastest_8_1064.9276525472005'))\n",
    "data_loader = DataLoader(CSVDataset(\".\\\\csv\", device), batch_size=8, shuffle=True)\n",
    "\n",
    "loss_fn = nn.MSELoss()\n",
    "optimizer = optim.Adam(predictor.parameters(), lr=0.0003)\n",
    "\n",
    "test_data_loader = DataLoader(CSVDataset(\".\\\\csv_test\", device), batch_size=8, shuffle=True)\n",
    "\n",
    "data, label = next(iter(test_data_loader))\n",
    "yhat = predictor(data)\n",
    "\n",
    "make_dot(yhat, params=dict(list(predictor.named_parameters()))).render(\"rnn_torchviz\", format=\"png\")"
   ]
  },
  {
   "cell_type": "code",
   "execution_count": null,
   "id": "7fccff12",
   "metadata": {},
   "outputs": [],
   "source": []
  }
 ],
 "metadata": {
  "kernelspec": {
   "display_name": "Python 3 (ipykernel)",
   "language": "python",
   "name": "python3"
  },
  "language_info": {
   "codemirror_mode": {
    "name": "ipython",
    "version": 3
   },
   "file_extension": ".py",
   "mimetype": "text/x-python",
   "name": "python",
   "nbconvert_exporter": "python",
   "pygments_lexer": "ipython3",
   "version": "3.9.6"
  }
 },
 "nbformat": 4,
 "nbformat_minor": 5
}
