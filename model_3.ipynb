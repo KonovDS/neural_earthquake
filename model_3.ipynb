{
 "cells": [
  {
   "cell_type": "code",
   "execution_count": 1,
   "id": "3d6933f3",
   "metadata": {},
   "outputs": [
    {
     "name": "stdout",
     "output_type": "stream",
     "text": [
      "cuda\n"
     ]
    }
   ],
   "source": [
    "import torch\n",
    "import torch.nn as nn\n",
    "import torch.optim as optim\n",
    "import torch.utils.data\n",
    "import torch.nn.functional as F\n",
    "\n",
    "from torchvision import datasets, models, transforms\n",
    "from torch.utils.data import DataLoader, Dataset\n",
    "\n",
    "import numpy as np\n",
    "import pandas as pd\n",
    "import matplotlib.pyplot as plt\n",
    "import os\n",
    "\n",
    "device = 'cuda' if torch.cuda.is_available() else 'cpu'\n",
    "print(device)"
   ]
  },
  {
   "cell_type": "code",
   "execution_count": 2,
   "id": "7ed3c8a1",
   "metadata": {},
   "outputs": [],
   "source": [
    "import re\n",
    "\n",
    "regex = re.compile(r'^[\\d]+_x=([-\\d.]+)_z=([-\\d.]+)_a=([-\\d.]+)_h=([-\\d.]+)[.]csv$')\n",
    "\n",
    "def label_from_path(path):\n",
    "    label = path.split('\\\\')[-1] # PLATFORM DEPENDENT!\n",
    "    m = regex.match(label)\n",
    "    out = [float(x) for x in m.groups()]\n",
    "    return torch.tensor(out, dtype=torch.float)"
   ]
  },
  {
   "cell_type": "code",
   "execution_count": 3,
   "id": "7bc4c7bc",
   "metadata": {},
   "outputs": [],
   "source": [
    "def data_from_path(path):\n",
    "    data = pd.read_csv(path, sep=';')\n",
    "\n",
    "    time = data.values[:,0]\n",
    "    vx   = data.values[:,1::2]\n",
    "    vz   = data.values[:,2::2]\n",
    "    vabs = (vx ** 2 + vz ** 2) ** (1/2)\n",
    "    \n",
    "    vx   = torch.from_numpy(vx)\n",
    "    vz   = torch.from_numpy(vz)\n",
    "    vabs = torch.from_numpy(vabs)\n",
    "    \n",
    "    vx_fft   = torch.view_as_real(torch.fft.fft(vx)).permute(2, 0, 1)\n",
    "    vz_fft   = torch.view_as_real(torch.fft.fft(vz)).permute(2, 0, 1)\n",
    "    vabs_fft = torch.view_as_real(torch.fft.fft(vabs)).permute(2, 0, 1)\n",
    "\n",
    "    ret = torch.cat([vx.unsqueeze(0), vz.unsqueeze(0), vabs.unsqueeze(0), vx_fft, vz_fft, vabs_fft], dim=0)\n",
    "\n",
    "    return ret"
   ]
  },
  {
   "cell_type": "code",
   "execution_count": 4,
   "id": "40badcc2",
   "metadata": {},
   "outputs": [],
   "source": [
    "class CSVDataset(Dataset):\n",
    "    def __init__(self, path, device):\n",
    "        self.device = device\n",
    "        self.csv_list = [\n",
    "            (path + \"\\\\\" + i) for i in os.listdir(path) if i.split('.')[-1] == 'csv'\n",
    "        ]\n",
    "\n",
    "    def __getitem__(self, item):\n",
    "        d = data_from_path(self.csv_list[item]).to(device=device, dtype=torch.float)\n",
    "        l = label_from_path(self.csv_list[item]).to(device=device, dtype=torch.float)\n",
    "        return d, l\n",
    "\n",
    "    def __len__(self):\n",
    "        return len(self.csv_list)"
   ]
  },
  {
   "cell_type": "code",
   "execution_count": 5,
   "id": "e4bb68fd",
   "metadata": {},
   "outputs": [],
   "source": [
    "class Predictor(nn.Module):\n",
    "    def __init__(self):\n",
    "        super(Predictor, self).__init__()\n",
    "\n",
    "        self.feature_extractor = nn.Sequential(\n",
    "            #        in  out  ker size\n",
    "            nn.Conv2d(9, 64, 3),     # 9 = len([v_x, v_y, v_abs, 2*fft_vx, 2*fft_vy, 2*fft_vabs, ])\n",
    "            nn.MaxPool2d(2, 2), \n",
    "            nn.ReLU(inplace=True),\n",
    "            nn.BatchNorm2d(64),\n",
    "\n",
    "            nn.Conv2d(64, 512, 3, 2),\n",
    "            nn.MaxPool2d(2, 2),\n",
    "            nn.ReLU(inplace=True),\n",
    "            nn.BatchNorm2d(512),\n",
    "\n",
    "            nn.Conv2d(512, 1024, 3, 2),\n",
    "            nn.MaxPool2d(2, 2),\n",
    "            nn.ReLU(inplace=True),\n",
    "            nn.BatchNorm2d(1024),\n",
    "\n",
    "            nn.Conv2d(1024, 512, 2),\n",
    "        )\n",
    "\n",
    "        self.linear = nn.Linear(45, 256)\n",
    "        self.conv = nn.Sequential(\n",
    "            nn.Conv2d(512, 1, 1),\n",
    "            nn.ReLU(inplace=True)\n",
    "            )\n",
    "\n",
    "        self.linear2 = nn.Linear(256, 4) # 4 = x, z, a, h\n",
    "\n",
    "    def forward(self, input):\n",
    "        x = self.feature_extractor(input)\n",
    "        x = x.permute(0, 1, 3, 2)\n",
    "        x = self.linear(x)\n",
    "        x = self.conv(x)\n",
    "        x = x.squeeze(1).squeeze(1)\n",
    "        x = self.linear2(x)\n",
    "\n",
    "        return x"
   ]
  },
  {
   "cell_type": "code",
   "execution_count": 6,
   "id": "c8619eec",
   "metadata": {},
   "outputs": [],
   "source": [
    "predictor = Predictor().to(device)\n",
    "data_loader = DataLoader(CSVDataset(\".\\\\csv\", device), batch_size=8, shuffle=True)\n",
    "loss_fn = nn.MSELoss()\n",
    "optimizer = optim.Adam(predictor.parameters(), lr=0.0003)"
   ]
  },
  {
   "cell_type": "code",
   "execution_count": 7,
   "id": "355e6e49",
   "metadata": {},
   "outputs": [
    {
     "name": "stderr",
     "output_type": "stream",
     "text": [
      "loss: 2236.127685546875: 100%|███████████████████████████████████████████████████████| 750/750 [10:28<00:00,  1.19it/s]\n",
      "loss: 3327.13916015625: 100%|████████████████████████████████████████████████████████| 750/750 [09:26<00:00,  1.32it/s]\n",
      "loss: 1433.2216796875: 100%|█████████████████████████████████████████████████████████| 750/750 [09:20<00:00,  1.34it/s]\n",
      "loss: 1925.24658203125: 100%|████████████████████████████████████████████████████████| 750/750 [09:26<00:00,  1.33it/s]\n",
      "loss: 3857.43603515625: 100%|████████████████████████████████████████████████████████| 750/750 [09:41<00:00,  1.29it/s]\n",
      "loss: 802.9754638671875: 100%|███████████████████████████████████████████████████████| 750/750 [09:31<00:00,  1.31it/s]\n",
      "loss: 342.04083251953125: 100%|██████████████████████████████████████████████████████| 750/750 [09:39<00:00,  1.29it/s]\n",
      "loss: 401.9288330078125: 100%|███████████████████████████████████████████████████████| 750/750 [09:53<00:00,  1.26it/s]\n",
      "loss: 546.13916015625: 100%|█████████████████████████████████████████████████████████| 750/750 [09:47<00:00,  1.28it/s]\n",
      "loss: 321.50921630859375: 100%|██████████████████████████████████████████████████████| 750/750 [09:49<00:00,  1.27it/s]\n",
      "loss: 810.2832641601562: 100%|███████████████████████████████████████████████████████| 750/750 [09:49<00:00,  1.27it/s]\n",
      "loss: 857.091064453125: 100%|████████████████████████████████████████████████████████| 750/750 [09:52<00:00,  1.27it/s]\n",
      "loss: 726.3194580078125: 100%|███████████████████████████████████████████████████████| 750/750 [09:44<00:00,  1.28it/s]\n",
      "loss: 356.41357421875: 100%|█████████████████████████████████████████████████████████| 750/750 [09:59<00:00,  1.25it/s]\n",
      "loss: 1226.988037109375: 100%|███████████████████████████████████████████████████████| 750/750 [10:02<00:00,  1.24it/s]\n",
      "loss: 834.5054931640625: 100%|███████████████████████████████████████████████████████| 750/750 [09:26<00:00,  1.32it/s]\n",
      "loss: 383.7626037597656: 100%|███████████████████████████████████████████████████████| 750/750 [08:57<00:00,  1.40it/s]\n",
      "loss: 210.8243408203125: 100%|███████████████████████████████████████████████████████| 750/750 [08:59<00:00,  1.39it/s]\n",
      "loss: 657.1365966796875: 100%|███████████████████████████████████████████████████████| 750/750 [09:01<00:00,  1.38it/s]\n",
      "loss: 1514.090576171875: 100%|███████████████████████████████████████████████████████| 750/750 [09:04<00:00,  1.38it/s]\n",
      "loss: 479.25396728515625: 100%|██████████████████████████████████████████████████████| 750/750 [09:14<00:00,  1.35it/s]\n",
      "loss: 300.7611083984375: 100%|███████████████████████████████████████████████████████| 750/750 [09:17<00:00,  1.35it/s]\n",
      "loss: 124.50721740722656: 100%|██████████████████████████████████████████████████████| 750/750 [09:05<00:00,  1.38it/s]\n",
      "loss: 470.052001953125: 100%|████████████████████████████████████████████████████████| 750/750 [09:01<00:00,  1.38it/s]\n",
      "loss: 285.3267822265625: 100%|███████████████████████████████████████████████████████| 750/750 [08:59<00:00,  1.39it/s]"
     ]
    },
    {
     "name": "stdout",
     "output_type": "stream",
     "text": [
      "Finished Training\n"
     ]
    },
    {
     "name": "stderr",
     "output_type": "stream",
     "text": [
      "\n"
     ]
    }
   ],
   "source": [
    "from tqdm import tqdm\n",
    "\n",
    "num_epochs = 25\n",
    "all_loss = []\n",
    "\n",
    "for epoch in range(num_epochs):\n",
    "    progress = tqdm(data_loader)\n",
    "    running_loss = []\n",
    "    for inputs, label in progress:\n",
    "        # zero the parameter gradients\n",
    "        optimizer.zero_grad()\n",
    "        # predict\n",
    "        outputs = predictor(inputs)\n",
    "        # loss\n",
    "        loss = loss_fn(outputs, label)\n",
    "        running_loss.append(loss.item())\n",
    "        loss.backward()\n",
    "        optimizer.step()\n",
    "\n",
    "        # print statistics\n",
    "        progress.set_description(f\"loss: {loss.item()}\")\n",
    "    \n",
    "    all_loss.append(running_loss)\n",
    "    torch.save(predictor.state_dict(), f'.\\\\weights\\\\lastest_{epoch}_{np.mean(running_loss)}')\n",
    "\n",
    "print('Finished Training')"
   ]
  },
  {
   "cell_type": "code",
   "execution_count": 9,
   "id": "aed96816",
   "metadata": {},
   "outputs": [],
   "source": [
    "import os\n",
    "os.environ[\"PATH\"] += os.pathsep + 'C:\\\\Program Files (x86)\\\\Graphviz\\\\bin\\\\'"
   ]
  },
  {
   "cell_type": "code",
   "execution_count": 11,
   "id": "cac34619",
   "metadata": {},
   "outputs": [
    {
     "data": {
      "text/plain": [
       "'rnn_torchviz.png'"
      ]
     },
     "execution_count": 11,
     "metadata": {},
     "output_type": "execute_result"
    }
   ],
   "source": [
    "from torchviz import make_dot\n",
    "\n",
    "predictor = Predictor().to(device)\n",
    "predictor.load_state_dict(torch.load('.\\\\w3\\\\lastest_8_1064.9276525472005'))\n",
    "data_loader = DataLoader(CSVDataset(\".\\\\csv\", device), batch_size=8, shuffle=True)\n",
    "\n",
    "loss_fn = nn.MSELoss()\n",
    "optimizer = optim.Adam(predictor.parameters(), lr=0.0003)\n",
    "\n",
    "test_data_loader = DataLoader(CSVDataset(\".\\\\csv_test\", device), batch_size=8, shuffle=True)\n",
    "\n",
    "data, label = next(iter(test_data_loader))\n",
    "yhat = predictor(data)\n",
    "\n",
    "make_dot(yhat, params=dict(list(predictor.named_parameters()))).render(\"rnn_torchviz\", format=\"png\")"
   ]
  },
  {
   "cell_type": "code",
   "execution_count": null,
   "id": "7fccff12",
   "metadata": {},
   "outputs": [],
   "source": []
  }
 ],
 "metadata": {
  "kernelspec": {
   "display_name": "Python 3 (ipykernel)",
   "language": "python",
   "name": "python3"
  },
  "language_info": {
   "codemirror_mode": {
    "name": "ipython",
    "version": 3
   },
   "file_extension": ".py",
   "mimetype": "text/x-python",
   "name": "python",
   "nbconvert_exporter": "python",
   "pygments_lexer": "ipython3",
   "version": "3.9.6"
  }
 },
 "nbformat": 4,
 "nbformat_minor": 5
}
