{
 "cells": [
  {
   "cell_type": "code",
   "execution_count": 1,
   "id": "e9b17d1b",
   "metadata": {},
   "outputs": [
    {
     "name": "stdout",
     "output_type": "stream",
     "text": [
      "cuda\n"
     ]
    }
   ],
   "source": [
    "import torch\n",
    "import torch.nn as nn\n",
    "import torch.optim as optim\n",
    "import torch.utils.data\n",
    "import torch.nn.functional as F\n",
    "\n",
    "from torchvision import datasets, models, transforms\n",
    "from torch.utils.data import DataLoader, Dataset\n",
    "\n",
    "import numpy as np\n",
    "import pandas as pd\n",
    "import matplotlib.pyplot as plt\n",
    "import os\n",
    "\n",
    "device = 'cuda' if torch.cuda.is_available() else 'cpu'\n",
    "print(device)\n",
    "\n",
    "from tqdm import tqdm\n",
    "import re"
   ]
  },
  {
   "cell_type": "markdown",
   "id": "3edafcc0",
   "metadata": {},
   "source": [
    "# Предобработка данных"
   ]
  },
  {
   "cell_type": "code",
   "execution_count": 2,
   "id": "40ab0f03",
   "metadata": {},
   "outputs": [],
   "source": [
    "regex = re.compile(r'^[\\d]+_x=([-\\d.]+)_z=([-\\d.]+)_a=([-\\d.]+)_h=([-\\d.]+)[.]csv$')\n",
    "\n",
    "def label_from_path(path):\n",
    "    label = path.split('\\\\')[-1] # PLATFORM DEPENDENT!\n",
    "    m = regex.match(label)\n",
    "    out = [float(x) for x in m.groups()]\n",
    "    return torch.tensor(out, dtype=torch.float)"
   ]
  },
  {
   "cell_type": "code",
   "execution_count": 3,
   "id": "db850ace",
   "metadata": {},
   "outputs": [],
   "source": [
    "def data_from_path(path):\n",
    "    data = pd.read_csv(path, sep=';')\n",
    "\n",
    "    time = data.values[:,0]\n",
    "    vx   = data.values[:,1::2]\n",
    "    vz   = data.values[:,2::2]\n",
    "    vabs = (vx ** 2 + vz ** 2) ** (1/2)\n",
    "    \n",
    "    vx   = torch.from_numpy(vx)\n",
    "    vz   = torch.from_numpy(vz)\n",
    "    vabs = torch.from_numpy(vabs)\n",
    "    \n",
    "    vx_fft   = torch.view_as_real(torch.fft.fft(vx)).permute(2, 0, 1)\n",
    "    vz_fft   = torch.view_as_real(torch.fft.fft(vz)).permute(2, 0, 1)\n",
    "    vabs_fft = torch.view_as_real(torch.fft.fft(vabs)).permute(2, 0, 1)\n",
    "\n",
    "    ret = torch.cat([vx.unsqueeze(0), vz.unsqueeze(0), vabs.unsqueeze(0), vx_fft, vz_fft, vabs_fft], dim=0)\n",
    "\n",
    "    return ret"
   ]
  },
  {
   "cell_type": "markdown",
   "id": "c96efd7b",
   "metadata": {},
   "source": [
    "### Dataset"
   ]
  },
  {
   "cell_type": "code",
   "execution_count": 4,
   "id": "aab76b62",
   "metadata": {},
   "outputs": [],
   "source": [
    "class CSVDataset(Dataset):\n",
    "    def __init__(self, path, device):\n",
    "        self.device = device\n",
    "        self.csv_list = [\n",
    "            (path + \"\\\\\" + i) for i in os.listdir(path) if i.split('.')[-1] == 'csv'\n",
    "        ]\n",
    "\n",
    "    def __getitem__(self, item):\n",
    "        d = data_from_path(self.csv_list[item]).to(device=device, dtype=torch.float)\n",
    "        l = label_from_path(self.csv_list[item]).to(device=device, dtype=torch.float)\n",
    "        return d, l\n",
    "\n",
    "    def __len__(self):\n",
    "        return len(self.csv_list)"
   ]
  },
  {
   "cell_type": "markdown",
   "id": "dbb158d1",
   "metadata": {},
   "source": [
    "### Непосредственно сеть"
   ]
  },
  {
   "cell_type": "code",
   "execution_count": 5,
   "id": "4ef1289b",
   "metadata": {},
   "outputs": [],
   "source": [
    "class Predictor(nn.Module):\n",
    "    def __init__(self, n_hyper):\n",
    "        super(Predictor, self).__init__()\n",
    "\n",
    "        self.feature_extractor = nn.Sequential(\n",
    "            #        in  out  ker size\n",
    "            nn.Conv2d(9, n_hyper, 3),     # 9 = len([v_x, v_y, v_abs, 2*fft_vx, 2*fft_vy, 2*fft_vabs, ])\n",
    "            nn.MaxPool2d(2, 2), \n",
    "            nn.ReLU(inplace=True),\n",
    "            nn.BatchNorm2d(n_hyper),\n",
    "\n",
    "            nn.Conv2d(n_hyper, 512, 3, 2),\n",
    "            nn.MaxPool2d(2, 2),\n",
    "            nn.ReLU(inplace=True),\n",
    "            nn.BatchNorm2d(512),\n",
    "\n",
    "            nn.Conv2d(512, 1024, 3, 2),\n",
    "            nn.MaxPool2d(2, 2),\n",
    "            nn.ReLU(inplace=True),\n",
    "            nn.BatchNorm2d(1024),\n",
    "\n",
    "            nn.Conv2d(1024, 512, 2),\n",
    "        )\n",
    "\n",
    "        self.linear = nn.Linear(45, 256)\n",
    "        self.conv = nn.Sequential(\n",
    "            nn.Conv2d(512, 1, 1),\n",
    "            nn.ReLU(inplace=True)\n",
    "            )\n",
    "\n",
    "        self.linear2 = nn.Linear(256, 4) # 4 = x, z, a, h\n",
    "\n",
    "    def forward(self, input):\n",
    "        x = self.feature_extractor(input)\n",
    "        x = x.permute(0, 1, 3, 2)\n",
    "        x = self.linear(x)\n",
    "        x = self.conv(x)\n",
    "        x = x.squeeze(1).squeeze(1)\n",
    "        x = self.linear2(x)\n",
    "\n",
    "        return x"
   ]
  },
  {
   "cell_type": "markdown",
   "id": "eef7c484",
   "metadata": {},
   "source": [
    "# Результаты модели"
   ]
  },
  {
   "cell_type": "markdown",
   "id": "873a3320",
   "metadata": {},
   "source": [
    "Проводилось 4 эксперимента при различных параметрах n_hyper. Веса сохранялись в папки w1, w2, w3, w4. Первой моделе соответсвует n_hyper = 256, второй n_hyper = 128, третей n_hyper = 64, четвертой n_hyper = 32. Эпохи пронумерованы с 0.\n",
    "\n",
    "\n",
    "Прогоним модели по тестовым данным и повторим результаты из рисунка 10 и таблицы 3."
   ]
  },
  {
   "cell_type": "code",
   "execution_count": 6,
   "id": "34cce2ce",
   "metadata": {},
   "outputs": [],
   "source": [
    "def experiment(n, path):\n",
    "    loss_fn = nn.MSELoss()\n",
    "    ret = []\n",
    "    predictor = Predictor(n).to(device)\n",
    "    \n",
    "    for fname in [(path + \"\\\\\" + i) for i in os.listdir(path)]:\n",
    "        predictor.load_state_dict(torch.load(fname))\n",
    "        test_data_loader = DataLoader(CSVDataset(\".\\\\csv_test\", device), batch_size=12, shuffle=True)\n",
    "        total_loss = 0\n",
    "    \n",
    "        for data, label in tqdm(test_data_loader):\n",
    "            with torch.no_grad():\n",
    "                outputs = predictor(data)\n",
    "                total_loss += loss_fn(outputs, label)\n",
    "    \n",
    "        ret.append((fname, total_loss / len(test_data_loader)))\n",
    "    \n",
    "    return ret"
   ]
  },
  {
   "cell_type": "code",
   "execution_count": 7,
   "id": "b61e7134",
   "metadata": {},
   "outputs": [],
   "source": [
    "def results(ret):\n",
    "    a = [0, ] * 25\n",
    "    b = [0, ] * 25\n",
    "\n",
    "    for x in ret:\n",
    "        c = int(x[0].split('_')[1])\n",
    "        a[c] = float(x[0].split('_')[-1])\n",
    "        b[c] = float(x[1])\n",
    "\n",
    "    print(\"Epoch Train loss        Test loss\")    \n",
    "    for x in range(len(a)):\n",
    "        print(x, \"   \", a[x], b[x])\n",
    "\n",
    "\n",
    "    plt.yscale(\"log\")\n",
    "\n",
    "    plt.xlabel('Epochs')\n",
    "    plt.ylabel('MSE Loss')\n",
    "\n",
    "    plt.plot(a)\n",
    "    plt.plot(b)\n",
    "    plt.show()"
   ]
  },
  {
   "cell_type": "code",
   "execution_count": 12,
   "id": "ea09d814",
   "metadata": {
    "scrolled": true
   },
   "outputs": [
    {
     "name": "stderr",
     "output_type": "stream",
     "text": [
      "100%|██████████████████████████████████████████████████████████████████████████████████| 50/50 [00:58<00:00,  1.17s/it]\n",
      "100%|██████████████████████████████████████████████████████████████████████████████████| 50/50 [00:44<00:00,  1.11it/s]\n",
      "100%|██████████████████████████████████████████████████████████████████████████████████| 50/50 [00:45<00:00,  1.11it/s]\n",
      "100%|██████████████████████████████████████████████████████████████████████████████████| 50/50 [00:45<00:00,  1.09it/s]\n",
      "100%|██████████████████████████████████████████████████████████████████████████████████| 50/50 [00:44<00:00,  1.11it/s]\n",
      "100%|██████████████████████████████████████████████████████████████████████████████████| 50/50 [00:45<00:00,  1.10it/s]\n",
      "100%|██████████████████████████████████████████████████████████████████████████████████| 50/50 [00:41<00:00,  1.21it/s]\n",
      "100%|██████████████████████████████████████████████████████████████████████████████████| 50/50 [00:42<00:00,  1.17it/s]\n",
      "100%|██████████████████████████████████████████████████████████████████████████████████| 50/50 [00:43<00:00,  1.15it/s]\n",
      "100%|██████████████████████████████████████████████████████████████████████████████████| 50/50 [00:42<00:00,  1.18it/s]\n",
      "100%|██████████████████████████████████████████████████████████████████████████████████| 50/50 [00:43<00:00,  1.16it/s]\n",
      "100%|██████████████████████████████████████████████████████████████████████████████████| 50/50 [00:42<00:00,  1.19it/s]\n",
      "100%|██████████████████████████████████████████████████████████████████████████████████| 50/50 [00:44<00:00,  1.12it/s]\n",
      "100%|██████████████████████████████████████████████████████████████████████████████████| 50/50 [00:42<00:00,  1.19it/s]\n",
      "100%|██████████████████████████████████████████████████████████████████████████████████| 50/50 [00:41<00:00,  1.19it/s]\n",
      "100%|██████████████████████████████████████████████████████████████████████████████████| 50/50 [00:46<00:00,  1.08it/s]\n",
      "100%|██████████████████████████████████████████████████████████████████████████████████| 50/50 [00:44<00:00,  1.12it/s]\n",
      "100%|██████████████████████████████████████████████████████████████████████████████████| 50/50 [00:45<00:00,  1.11it/s]\n",
      "100%|██████████████████████████████████████████████████████████████████████████████████| 50/50 [00:46<00:00,  1.09it/s]\n",
      "100%|██████████████████████████████████████████████████████████████████████████████████| 50/50 [00:43<00:00,  1.14it/s]\n",
      "100%|██████████████████████████████████████████████████████████████████████████████████| 50/50 [00:44<00:00,  1.12it/s]\n",
      "100%|██████████████████████████████████████████████████████████████████████████████████| 50/50 [00:46<00:00,  1.08it/s]\n",
      "100%|██████████████████████████████████████████████████████████████████████████████████| 50/50 [00:45<00:00,  1.09it/s]\n",
      "100%|██████████████████████████████████████████████████████████████████████████████████| 50/50 [00:43<00:00,  1.15it/s]\n",
      "100%|██████████████████████████████████████████████████████████████████████████████████| 50/50 [00:43<00:00,  1.14it/s]\n"
     ]
    }
   ],
   "source": [
    "ret = experiment(256, \".//w1\")"
   ]
  },
  {
   "cell_type": "code",
   "execution_count": 24,
   "id": "10e14a45",
   "metadata": {},
   "outputs": [
    {
     "name": "stdout",
     "output_type": "stream",
     "text": [
      "Epoch Train loss        Test loss\n",
      "0     45718.42092561849 7059.17529296875\n",
      "1     4380.993061767578 2958.88232421875\n",
      "2     2399.6213155110677 2678.343994140625\n",
      "3     2000.367135172526 1783.60009765625\n",
      "4     1690.668668294271 1600.6553955078125\n",
      "5     1477.8920306396485 1070.7567138671875\n",
      "6     1225.4641667073568 1379.4366455078125\n",
      "7     1225.8064201049804 1058.3858642578125\n",
      "8     983.1471684570313 990.8106079101562\n",
      "9     806.7203869832357 1142.20458984375\n",
      "10     893.2206697387695 924.6915283203125\n",
      "11     865.6638067830404 809.701171875\n",
      "12     675.6369711812338 871.6392211914062\n",
      "13     644.1288631184896 872.208984375\n",
      "14     612.9963515421549 772.0078735351562\n",
      "15     553.7910185750326 631.0411987304688\n",
      "16     520.0451358846028 512.2998657226562\n",
      "17     536.1971237080892 557.9710693359375\n",
      "18     503.4557669474284 625.9976196289062\n",
      "19     371.2722960611979 424.9783935546875\n",
      "20     421.7247384033203 563.5158081054688\n",
      "21     423.6021992085775 487.5791320800781\n",
      "22     403.09191474405924 412.81103515625\n",
      "23     340.65574354044594 462.1567077636719\n",
      "24     302.9916340230306 450.6214599609375\n"
     ]
    },
    {
     "data": {
      "image/png": "[encoded data removed]",
      "text/plain": [
       "<Figure size 432x288 with 1 Axes>"
      ]
     },
     "metadata": {
      "needs_background": "light"
     },
     "output_type": "display_data"
    }
   ],
   "source": [
    "results(ret)"
   ]
  },
  {
   "cell_type": "code",
   "execution_count": 28,
   "id": "65be3ee7",
   "metadata": {},
   "outputs": [
    {
     "name": "stderr",
     "output_type": "stream",
     "text": [
      "100%|██████████████████████████████████████████████████████████████████████████████████| 50/50 [00:42<00:00,  1.17it/s]\n",
      "100%|██████████████████████████████████████████████████████████████████████████████████| 50/50 [00:44<00:00,  1.14it/s]\n",
      "100%|██████████████████████████████████████████████████████████████████████████████████| 50/50 [00:44<00:00,  1.12it/s]\n",
      "100%|██████████████████████████████████████████████████████████████████████████████████| 50/50 [00:44<00:00,  1.14it/s]\n",
      "100%|██████████████████████████████████████████████████████████████████████████████████| 50/50 [00:43<00:00,  1.15it/s]\n",
      "100%|██████████████████████████████████████████████████████████████████████████████████| 50/50 [00:44<00:00,  1.13it/s]\n",
      "100%|██████████████████████████████████████████████████████████████████████████████████| 50/50 [00:47<00:00,  1.06it/s]\n",
      "100%|██████████████████████████████████████████████████████████████████████████████████| 50/50 [00:44<00:00,  1.12it/s]\n",
      "100%|██████████████████████████████████████████████████████████████████████████████████| 50/50 [00:43<00:00,  1.14it/s]\n",
      "100%|██████████████████████████████████████████████████████████████████████████████████| 50/50 [00:41<00:00,  1.20it/s]\n",
      "100%|██████████████████████████████████████████████████████████████████████████████████| 50/50 [00:41<00:00,  1.20it/s]\n",
      "100%|██████████████████████████████████████████████████████████████████████████████████| 50/50 [00:41<00:00,  1.20it/s]\n",
      "100%|██████████████████████████████████████████████████████████████████████████████████| 50/50 [00:43<00:00,  1.14it/s]\n",
      "100%|██████████████████████████████████████████████████████████████████████████████████| 50/50 [00:43<00:00,  1.14it/s]\n",
      "100%|██████████████████████████████████████████████████████████████████████████████████| 50/50 [00:44<00:00,  1.12it/s]\n",
      "100%|██████████████████████████████████████████████████████████████████████████████████| 50/50 [00:43<00:00,  1.16it/s]\n",
      "100%|██████████████████████████████████████████████████████████████████████████████████| 50/50 [00:44<00:00,  1.13it/s]\n",
      "100%|██████████████████████████████████████████████████████████████████████████████████| 50/50 [00:43<00:00,  1.15it/s]\n",
      "100%|██████████████████████████████████████████████████████████████████████████████████| 50/50 [00:42<00:00,  1.17it/s]\n",
      "100%|██████████████████████████████████████████████████████████████████████████████████| 50/50 [00:42<00:00,  1.17it/s]\n",
      "100%|██████████████████████████████████████████████████████████████████████████████████| 50/50 [00:42<00:00,  1.17it/s]\n",
      "100%|██████████████████████████████████████████████████████████████████████████████████| 50/50 [00:42<00:00,  1.17it/s]\n",
      "100%|██████████████████████████████████████████████████████████████████████████████████| 50/50 [00:43<00:00,  1.15it/s]\n",
      "100%|██████████████████████████████████████████████████████████████████████████████████| 50/50 [00:42<00:00,  1.17it/s]\n",
      "100%|██████████████████████████████████████████████████████████████████████████████████| 50/50 [00:43<00:00,  1.16it/s]\n"
     ]
    },
    {
     "name": "stdout",
     "output_type": "stream",
     "text": [
      "Epoch Train loss        Test loss\n",
      "0     38402.61959065755 5153.2587890625\n",
      "1     3517.890502766927 2317.1376953125\n",
      "2     2304.585198852539 2139.88720703125\n",
      "3     1973.3168083902995 1960.490234375\n",
      "4     1533.303080037435 1289.9571533203125\n",
      "5     1339.7622233072916 1397.8038330078125\n",
      "6     1191.8854018961588 1464.021240234375\n",
      "7     1098.9046418863932 965.3689575195312\n",
      "8     1022.8942905476888 1028.228515625\n",
      "9     887.3866968994141 729.3145751953125\n",
      "10     860.2220416870117 769.1372680664062\n",
      "11     885.8546338907878 950.4551391601562\n",
      "12     631.0371058146159 1104.48876953125\n",
      "13     651.6892075195312 699.4419555664062\n",
      "14     698.8807584431967 609.6221313476562\n",
      "15     637.4185698038737 597.243896484375\n",
      "16     507.3536002400716 581.1190795898438\n",
      "17     538.5775926208496 659.812744140625\n",
      "18     463.34521823120116 633.3958740234375\n",
      "19     490.6890422973633 486.6031494140625\n",
      "20     426.86609565226235 441.8855895996094\n",
      "21     434.7606809285482 385.3861389160156\n",
      "22     462.1349581604004 680.9802856445312\n",
      "23     394.8121796061198 417.2991943359375\n",
      "24     461.16275701904294 720.0300903320312\n"
     ]
    },
    {
     "data": {
      "image/png": "[encoded data removed]",
      "text/plain": [
       "<Figure size 432x288 with 1 Axes>"
      ]
     },
     "metadata": {
      "needs_background": "light"
     },
     "output_type": "display_data"
    }
   ],
   "source": [
    "ret = experiment(128, \".//w2\")\n",
    "results(ret)"
   ]
  },
  {
   "cell_type": "code",
   "execution_count": 29,
   "id": "5352066a",
   "metadata": {},
   "outputs": [
    {
     "name": "stderr",
     "output_type": "stream",
     "text": [
      "100%|██████████████████████████████████████████████████████████████████████████████████| 50/50 [00:41<00:00,  1.21it/s]\n",
      "100%|██████████████████████████████████████████████████████████████████████████████████| 50/50 [00:41<00:00,  1.21it/s]\n",
      "100%|██████████████████████████████████████████████████████████████████████████████████| 50/50 [00:41<00:00,  1.22it/s]\n",
      "100%|██████████████████████████████████████████████████████████████████████████████████| 50/50 [00:41<00:00,  1.21it/s]\n",
      "100%|██████████████████████████████████████████████████████████████████████████████████| 50/50 [00:41<00:00,  1.20it/s]\n",
      "100%|██████████████████████████████████████████████████████████████████████████████████| 50/50 [00:41<00:00,  1.20it/s]\n",
      "100%|██████████████████████████████████████████████████████████████████████████████████| 50/50 [00:41<00:00,  1.20it/s]\n",
      "100%|██████████████████████████████████████████████████████████████████████████████████| 50/50 [00:41<00:00,  1.21it/s]\n",
      "100%|██████████████████████████████████████████████████████████████████████████████████| 50/50 [00:41<00:00,  1.21it/s]\n",
      "100%|██████████████████████████████████████████████████████████████████████████████████| 50/50 [00:41<00:00,  1.21it/s]\n",
      "100%|██████████████████████████████████████████████████████████████████████████████████| 50/50 [00:41<00:00,  1.21it/s]\n",
      "100%|██████████████████████████████████████████████████████████████████████████████████| 50/50 [00:41<00:00,  1.21it/s]\n",
      "100%|██████████████████████████████████████████████████████████████████████████████████| 50/50 [00:41<00:00,  1.21it/s]\n",
      "100%|██████████████████████████████████████████████████████████████████████████████████| 50/50 [00:41<00:00,  1.21it/s]\n",
      "100%|██████████████████████████████████████████████████████████████████████████████████| 50/50 [00:41<00:00,  1.21it/s]\n",
      "100%|██████████████████████████████████████████████████████████████████████████████████| 50/50 [00:41<00:00,  1.22it/s]\n",
      "100%|██████████████████████████████████████████████████████████████████████████████████| 50/50 [00:41<00:00,  1.20it/s]\n",
      "100%|██████████████████████████████████████████████████████████████████████████████████| 50/50 [00:41<00:00,  1.20it/s]\n",
      "100%|██████████████████████████████████████████████████████████████████████████████████| 50/50 [00:41<00:00,  1.21it/s]\n",
      "100%|██████████████████████████████████████████████████████████████████████████████████| 50/50 [00:41<00:00,  1.20it/s]\n",
      "100%|██████████████████████████████████████████████████████████████████████████████████| 50/50 [00:41<00:00,  1.20it/s]\n",
      "100%|██████████████████████████████████████████████████████████████████████████████████| 50/50 [00:41<00:00,  1.20it/s]\n",
      "100%|██████████████████████████████████████████████████████████████████████████████████| 50/50 [00:41<00:00,  1.21it/s]\n",
      "100%|██████████████████████████████████████████████████████████████████████████████████| 50/50 [00:41<00:00,  1.19it/s]\n",
      "100%|██████████████████████████████████████████████████████████████████████████████████| 50/50 [00:41<00:00,  1.21it/s]\n"
     ]
    },
    {
     "name": "stdout",
     "output_type": "stream",
     "text": [
      "Epoch Train loss        Test loss\n",
      "0     37995.8162820638 3892.1474609375\n",
      "1     3715.439570963542 2762.7490234375\n",
      "2     2604.4470025227865 2217.5576171875\n",
      "3     1773.6341033528645 1309.5133056640625\n",
      "4     1547.2999309895833 3425.950439453125\n",
      "5     1316.9536556803384 1034.3514404296875\n",
      "6     1197.787421142578 961.3214111328125\n",
      "7     1003.76023832194 1024.9617919921875\n",
      "8     1064.9276525472005 793.57177734375\n",
      "9     843.9003755289714 679.3629760742188\n",
      "10     847.6630532633463 1062.745361328125\n",
      "11     796.7646643676758 505.4977111816406\n",
      "12     689.7228363647461 1276.1654052734375\n",
      "13     683.1011740722656 897.5078735351562\n",
      "14     666.5717091674804 710.8021850585938\n",
      "15     656.4136258138021 573.3494873046875\n",
      "16     512.8400864461263 419.4539489746094\n",
      "17     498.35995985921227 512.0831298828125\n",
      "18     495.0183553161621 546.957275390625\n",
      "19     446.92242497762044 428.1332702636719\n",
      "20     514.0208389282227 455.3475646972656\n",
      "21     453.59397260538736 574.8724365234375\n",
      "22     478.74707580566405 361.0095520019531\n",
      "23     359.4045446370443 646.395263671875\n",
      "24     401.64379184977213 411.44439697265625\n"
     ]
    },
    {
     "data": {
      "image/png": "[encoded data removed]",
      "text/plain": [
       "<Figure size 432x288 with 1 Axes>"
      ]
     },
     "metadata": {
      "needs_background": "light"
     },
     "output_type": "display_data"
    }
   ],
   "source": [
    "ret = experiment(64, \".//w3\")\n",
    "results(ret)"
   ]
  },
  {
   "cell_type": "code",
   "execution_count": 30,
   "id": "4bc64d23",
   "metadata": {
    "scrolled": true
   },
   "outputs": [
    {
     "name": "stderr",
     "output_type": "stream",
     "text": [
      "100%|██████████████████████████████████████████████████████████████████████████████████| 50/50 [00:41<00:00,  1.20it/s]\n",
      "100%|██████████████████████████████████████████████████████████████████████████████████| 50/50 [00:41<00:00,  1.20it/s]\n",
      "100%|██████████████████████████████████████████████████████████████████████████████████| 50/50 [00:41<00:00,  1.20it/s]\n",
      "100%|██████████████████████████████████████████████████████████████████████████████████| 50/50 [00:41<00:00,  1.21it/s]\n",
      "100%|██████████████████████████████████████████████████████████████████████████████████| 50/50 [00:41<00:00,  1.21it/s]\n",
      "100%|██████████████████████████████████████████████████████████████████████████████████| 50/50 [00:41<00:00,  1.20it/s]\n",
      "100%|██████████████████████████████████████████████████████████████████████████████████| 50/50 [00:41<00:00,  1.21it/s]\n",
      "100%|██████████████████████████████████████████████████████████████████████████████████| 50/50 [00:41<00:00,  1.21it/s]\n",
      "100%|██████████████████████████████████████████████████████████████████████████████████| 50/50 [00:41<00:00,  1.20it/s]\n",
      "100%|██████████████████████████████████████████████████████████████████████████████████| 50/50 [00:41<00:00,  1.21it/s]\n",
      "100%|██████████████████████████████████████████████████████████████████████████████████| 50/50 [00:41<00:00,  1.21it/s]\n",
      "100%|██████████████████████████████████████████████████████████████████████████████████| 50/50 [00:41<00:00,  1.21it/s]\n",
      "100%|██████████████████████████████████████████████████████████████████████████████████| 50/50 [00:41<00:00,  1.21it/s]\n",
      "100%|██████████████████████████████████████████████████████████████████████████████████| 50/50 [00:41<00:00,  1.20it/s]\n",
      "100%|██████████████████████████████████████████████████████████████████████████████████| 50/50 [00:41<00:00,  1.20it/s]\n",
      "100%|██████████████████████████████████████████████████████████████████████████████████| 50/50 [00:41<00:00,  1.20it/s]\n",
      "100%|██████████████████████████████████████████████████████████████████████████████████| 50/50 [00:41<00:00,  1.21it/s]\n",
      "100%|██████████████████████████████████████████████████████████████████████████████████| 50/50 [00:41<00:00,  1.19it/s]\n",
      "100%|██████████████████████████████████████████████████████████████████████████████████| 50/50 [00:41<00:00,  1.20it/s]\n",
      "100%|██████████████████████████████████████████████████████████████████████████████████| 50/50 [00:41<00:00,  1.20it/s]\n",
      "100%|██████████████████████████████████████████████████████████████████████████████████| 50/50 [00:41<00:00,  1.20it/s]\n",
      "100%|██████████████████████████████████████████████████████████████████████████████████| 50/50 [00:41<00:00,  1.20it/s]\n",
      "100%|██████████████████████████████████████████████████████████████████████████████████| 50/50 [00:41<00:00,  1.19it/s]\n",
      "100%|██████████████████████████████████████████████████████████████████████████████████| 50/50 [00:41<00:00,  1.20it/s]\n",
      "100%|██████████████████████████████████████████████████████████████████████████████████| 50/50 [00:41<00:00,  1.19it/s]\n"
     ]
    },
    {
     "name": "stdout",
     "output_type": "stream",
     "text": [
      "Epoch Train loss        Test loss\n",
      "0     46180.8893523763 5285.19921875\n",
      "1     4253.4193082682295 4829.3017578125\n",
      "2     2794.8280506184897 2459.807373046875\n",
      "3     2159.5597272949217 1838.0948486328125\n",
      "4     1845.9795686035156 1648.2255859375\n",
      "5     1666.5838186035157 1782.327880859375\n",
      "6     1590.0135607503255 1268.1458740234375\n",
      "7     1248.1552843017578 1900.727783203125\n",
      "8     1296.2617186279297 2093.595947265625\n",
      "9     1049.217219543457 1314.161865234375\n",
      "10     969.7212858479818 1103.1422119140625\n",
      "11     896.4830109863282 1079.8099365234375\n",
      "12     907.1207577718098 964.8265991210938\n",
      "13     753.7879975585937 837.39990234375\n",
      "14     733.2922454833985 749.7623291015625\n",
      "15     725.1300467325847 827.7208251953125\n",
      "16     622.0657198079427 808.1312255859375\n",
      "17     649.0316087646485 778.7344360351562\n",
      "18     608.774219136556 652.3377685546875\n",
      "19     561.3580904947917 852.396484375\n",
      "20     538.3093043416341 744.796142578125\n",
      "21     544.007084991455 694.334228515625\n",
      "22     504.05983953857424 564.1881713867188\n",
      "23     560.1508313090006 661.6959838867188\n",
      "24     419.16999172973635 639.960205078125\n"
     ]
    },
    {
     "data": {
      "image/png": "[encoded data removed]",
      "text/plain": [
       "<Figure size 432x288 with 1 Axes>"
      ]
     },
     "metadata": {
      "needs_background": "light"
     },
     "output_type": "display_data"
    }
   ],
   "source": [
    "ret = experiment(32, \".//w4\")\n",
    "results(ret)"
   ]
  },
  {
   "cell_type": "markdown",
   "id": "d39efb5a",
   "metadata": {},
   "source": [
    "# Быстрая проверка"
   ]
  },
  {
   "cell_type": "markdown",
   "id": "38203f40",
   "metadata": {},
   "source": [
    "Возможно проверить только лучшие эпохи, чтобы ускорить вычисления"
   ]
  },
  {
   "cell_type": "code",
   "execution_count": 8,
   "id": "82fba760",
   "metadata": {},
   "outputs": [],
   "source": [
    "def experiment2(n, path, epoch):\n",
    "    loss_fn = nn.MSELoss()\n",
    "    ret = []\n",
    "    predictor = Predictor(n).to(device)\n",
    "    \n",
    "    for fname in [(path + \"\\\\\" + i) for i in os.listdir(path)]:\n",
    "        if int(fname.split('_')[1]) == epoch:\n",
    "            predictor.load_state_dict(torch.load(fname))\n",
    "            test_data_loader = DataLoader(CSVDataset(\".\\\\csv_test\", device), batch_size=8, shuffle=True)\n",
    "            total_loss = 0\n",
    "    \n",
    "            for data, label in tqdm(test_data_loader):\n",
    "                with torch.no_grad():\n",
    "                    outputs = predictor(data)\n",
    "                    total_loss += loss_fn(outputs, label)\n",
    "    \n",
    "    return (fname.split('_')[-1], float(total_loss / len(test_data_loader)))"
   ]
  },
  {
   "cell_type": "code",
   "execution_count": 9,
   "id": "b646d0b1",
   "metadata": {},
   "outputs": [
    {
     "name": "stderr",
     "output_type": "stream",
     "text": [
      "100%|██████████████████████████████████████████████████████████████████████████████████| 75/75 [00:46<00:00,  1.62it/s]\n"
     ]
    },
    {
     "data": {
      "text/plain": [
       "('806.7203869832357', 405.4369812011719)"
      ]
     },
     "execution_count": 9,
     "metadata": {},
     "output_type": "execute_result"
    }
   ],
   "source": [
    "experiment2(256, \".//w1\", 22)"
   ]
  },
  {
   "cell_type": "code",
   "execution_count": 13,
   "id": "ae80611e",
   "metadata": {
    "scrolled": true
   },
   "outputs": [
    {
     "name": "stderr",
     "output_type": "stream",
     "text": [
      "100%|██████████████████████████████████████████████████████████████████████████████████| 75/75 [00:49<00:00,  1.52it/s]\n"
     ]
    },
    {
     "data": {
      "text/plain": [
       "('887.3866968994141', 407.9442138671875)"
      ]
     },
     "execution_count": 13,
     "metadata": {},
     "output_type": "execute_result"
    }
   ],
   "source": [
    "experiment2(128, \".//w2\", 21)"
   ]
  },
  {
   "cell_type": "code",
   "execution_count": 14,
   "id": "4d43d0fa",
   "metadata": {},
   "outputs": [
    {
     "name": "stderr",
     "output_type": "stream",
     "text": [
      "100%|██████████████████████████████████████████████████████████████████████████████████| 75/75 [00:48<00:00,  1.53it/s]\n"
     ]
    },
    {
     "data": {
      "text/plain": [
       "('843.9003755289714', 376.24365234375)"
      ]
     },
     "execution_count": 14,
     "metadata": {},
     "output_type": "execute_result"
    }
   ],
   "source": [
    "experiment2(64, \".//w3\", 22)"
   ]
  },
  {
   "cell_type": "code",
   "execution_count": 7,
   "id": "969f4b8e",
   "metadata": {},
   "outputs": [
    {
     "name": "stderr",
     "output_type": "stream",
     "text": [
      "100%|██████████████████████████████████████████████████████████████████████████████████| 75/75 [00:55<00:00,  1.34it/s]\n"
     ]
    },
    {
     "data": {
      "text/plain": [
       "('1049.217219543457', 684.9470825195312)"
      ]
     },
     "execution_count": 7,
     "metadata": {},
     "output_type": "execute_result"
    }
   ],
   "source": [
    "experiment2(32, \".//w4\", 21)"
   ]
  },
  {
   "cell_type": "markdown",
   "id": "26dad4c1",
   "metadata": {},
   "source": [
    "# Сравниваем с const prediction"
   ]
  },
  {
   "cell_type": "code",
   "execution_count": null,
   "id": "8f764ac1",
   "metadata": {},
   "outputs": [],
   "source": [
    "x = float(0)\n",
    "z = float(1100)\n",
    "a = float(90)\n",
    "h = float(180)\n",
    "\n",
    "const_prediction = torch.tensor([x, z, a, h], dtype=torch.float).to(device)"
   ]
  },
  {
   "cell_type": "code",
   "execution_count": null,
   "id": "8a6c99b0",
   "metadata": {},
   "outputs": [],
   "source": [
    "# Проверка\n",
    "print(const_prediction)"
   ]
  },
  {
   "cell_type": "code",
   "execution_count": null,
   "id": "52f1be77",
   "metadata": {},
   "outputs": [],
   "source": [
    "test_data_loader = DataLoader(CSVDataset(\".\\\\csv_test\", device), batch_size=8, shuffle=True)\n",
    "loss_fn = nn.MSELoss()\n",
    "\n",
    "total_loss = 0\n",
    "\n",
    "for data, label in tqdm(test_data_loader):\n",
    "    with torch.no_grad():\n",
    "        total_loss += loss_fn(const_prediction, label)\n",
    "        \n",
    "print(total_loss / len(test_data_loader))"
   ]
  }
 ],
 "metadata": {
  "kernelspec": {
   "display_name": "Python 3 (ipykernel)",
   "language": "python",
   "name": "python3"
  },
  "language_info": {
   "codemirror_mode": {
    "name": "ipython",
    "version": 3
   },
   "file_extension": ".py",
   "mimetype": "text/x-python",
   "name": "python",
   "nbconvert_exporter": "python",
   "pygments_lexer": "ipython3",
   "version": "3.9.6"
  }
 },
 "nbformat": 4,
 "nbformat_minor": 5
}
